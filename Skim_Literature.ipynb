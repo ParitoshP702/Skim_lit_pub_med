{
  "cells": [
    {
      "cell_type": "markdown",
      "metadata": {
        "id": "view-in-github",
        "colab_type": "text"
      },
      "source": [
        "<a href=\"https://colab.research.google.com/github/ParitoshP702/Skim_lit_pub_med/blob/main/Skim_Literature.ipynb\" target=\"_parent\"><img src=\"https://colab.research.google.com/assets/colab-badge.svg\" alt=\"Open In Colab\"/></a>"
      ]
    },
    {
      "cell_type": "code",
      "execution_count": 1,
      "metadata": {
        "colab": {
          "base_uri": "https://localhost:8080/"
        },
        "id": "y7rKUKE-yNjx",
        "outputId": "9440ee91-b3a1-4bcb-a90d-db7a2da500d5"
      },
      "outputs": [
        {
          "output_type": "stream",
          "name": "stdout",
          "text": [
            "Cloning into 'pubmed-rct'...\n",
            "remote: Enumerating objects: 33, done.\u001b[K\n",
            "remote: Counting objects: 100% (8/8), done.\u001b[K\n",
            "remote: Compressing objects: 100% (3/3), done.\u001b[K\n",
            "remote: Total 33 (delta 5), reused 5 (delta 5), pack-reused 25\u001b[K\n",
            "Unpacking objects: 100% (33/33), done.\n",
            "Checking out files: 100% (13/13), done.\n"
          ]
        }
      ],
      "source": [
        "!git clone https://github.com/Franck-Dernoncourt/pubmed-rct"
      ]
    },
    {
      "cell_type": "code",
      "execution_count": 2,
      "metadata": {
        "colab": {
          "base_uri": "https://localhost:8080/"
        },
        "id": "G36-eALAQAyr",
        "outputId": "3575ed68-70b9-46fe-ddc7-885f95d62703"
      },
      "outputs": [
        {
          "output_type": "stream",
          "name": "stdout",
          "text": [
            "PubMed_200k_RCT\n",
            "PubMed_200k_RCT_numbers_replaced_with_at_sign\n",
            "PubMed_20k_RCT\n",
            "PubMed_20k_RCT_numbers_replaced_with_at_sign\n",
            "README.md\n"
          ]
        }
      ],
      "source": [
        "!ls pubmed-rct"
      ]
    },
    {
      "cell_type": "code",
      "execution_count": 3,
      "metadata": {
        "colab": {
          "base_uri": "https://localhost:8080/"
        },
        "id": "CHwKZ5gcQLDb",
        "outputId": "a2b7c731-3eb2-455b-8548-90781390f00c"
      },
      "outputs": [
        {
          "output_type": "stream",
          "name": "stdout",
          "text": [
            "dev.txt  test.txt  train.txt\n",
            "dev.txt  test.txt  train.txt\n"
          ]
        }
      ],
      "source": [
        "#Check files present in our dataset\n",
        "!ls pubmed-rct/PubMed_20k_RCT_numbers_replaced_with_at_sign/\n",
        "!ls pubmed-rct/PubMed_20k_RCT"
      ]
    },
    {
      "cell_type": "code",
      "execution_count": 4,
      "metadata": {
        "id": "hamixCO6Qlv-"
      },
      "outputs": [],
      "source": [
        "#Start our experiment with 20k dataset numbers replaced with @ sign\n",
        "data_dir = \"/content/pubmed-rct/PubMed_20k_RCT_numbers_replaced_with_at_sign/\""
      ]
    },
    {
      "cell_type": "code",
      "execution_count": 5,
      "metadata": {
        "colab": {
          "base_uri": "https://localhost:8080/"
        },
        "id": "ZBqRvIjrR48c",
        "outputId": "033c7914-d014-46e8-a4a2-20766309d5ff"
      },
      "outputs": [
        {
          "output_type": "execute_result",
          "data": {
            "text/plain": [
              "['/content/pubmed-rct/PubMed_20k_RCT_numbers_replaced_with_at_sign/dev.txt',\n",
              " '/content/pubmed-rct/PubMed_20k_RCT_numbers_replaced_with_at_sign/train.txt',\n",
              " '/content/pubmed-rct/PubMed_20k_RCT_numbers_replaced_with_at_sign/test.txt']"
            ]
          },
          "metadata": {},
          "execution_count": 5
        }
      ],
      "source": [
        "#check all file names in the target directory\n",
        "import os\n",
        "filenames = [data_dir+ filename for filename in os.listdir(data_dir)]\n",
        "filenames"
      ]
    },
    {
      "cell_type": "markdown",
      "metadata": {
        "id": "smRl-19rSOM5"
      },
      "source": [
        "#Preprocessing our data"
      ]
    },
    {
      "cell_type": "code",
      "execution_count": 6,
      "metadata": {
        "id": "ZWRd00ntSr4C"
      },
      "outputs": [],
      "source": [
        "#Create function to read the lines of the document\n",
        "def get_line(filename):\n",
        "  \"\"\"Reads a text filename and returns the lines of text as a list\n",
        "  Args:\n",
        "  filename :a string containig target filepath\n",
        "  \"\"\"\n",
        "  with open(filename,\"r\") as f:\n",
        "    return f.readlines()\n"
      ]
    },
    {
      "cell_type": "code",
      "execution_count": 7,
      "metadata": {
        "colab": {
          "base_uri": "https://localhost:8080/"
        },
        "id": "UCRIJxgZThat",
        "outputId": "aa7095e2-3240-42e4-f1ec-db58d4136f10"
      },
      "outputs": [
        {
          "output_type": "execute_result",
          "data": {
            "text/plain": [
              "['###24293578\\n',\n",
              " 'OBJECTIVE\\tTo investigate the efficacy of @ weeks of daily low-dose oral prednisolone in improving pain , mobility , and systemic low-grade inflammation in the short term and whether the effect would be sustained at @ weeks in older adults with moderate to severe knee osteoarthritis ( OA ) .\\n',\n",
              " 'METHODS\\tA total of @ patients with primary knee OA were randomized @:@ ; @ received @ mg/day of prednisolone and @ received placebo for @ weeks .\\n',\n",
              " 'METHODS\\tOutcome measures included pain reduction and improvement in function scores and systemic inflammation markers .\\n',\n",
              " 'METHODS\\tPain was assessed using the visual analog pain scale ( @-@ mm ) .\\n',\n",
              " 'METHODS\\tSecondary outcome measures included the Western Ontario and McMaster Universities Osteoarthritis Index scores , patient global assessment ( PGA ) of the severity of knee OA , and @-min walk distance ( @MWD ) .\\n',\n",
              " 'METHODS\\tSerum levels of interleukin @ ( IL-@ ) , IL-@ , tumor necrosis factor ( TNF ) - , and high-sensitivity C-reactive protein ( hsCRP ) were measured .\\n',\n",
              " 'RESULTS\\tThere was a clinically relevant reduction in the intervention group compared to the placebo group for knee pain , physical function , PGA , and @MWD at @ weeks .\\n',\n",
              " 'RESULTS\\tThe mean difference between treatment arms ( @ % CI ) was @ ( @-@ @ ) , p < @ ; @ ( @-@ @ ) , p < @ ; @ ( @-@ @ ) , p < @ ; and @ ( @-@ @ ) , p < @ , respectively .\\n',\n",
              " 'RESULTS\\tFurther , there was a clinically relevant reduction in the serum levels of IL-@ , IL-@ , TNF - , and hsCRP at @ weeks in the intervention group when compared to the placebo group .\\n',\n",
              " 'RESULTS\\tThese differences remained significant at @ weeks .\\n',\n",
              " 'RESULTS\\tThe Outcome Measures in Rheumatology Clinical Trials-Osteoarthritis Research Society International responder rate was @ % in the intervention group and @ % in the placebo group ( p < @ ) .\\n',\n",
              " 'CONCLUSIONS\\tLow-dose oral prednisolone had both a short-term and a longer sustained effect resulting in less knee pain , better physical function , and attenuation of systemic inflammation in older patients with knee OA ( ClinicalTrials.gov identifier NCT@ ) .\\n',\n",
              " '\\n',\n",
              " '###24854809\\n',\n",
              " 'BACKGROUND\\tEmotional eating is associated with overeating and the development of obesity .\\n',\n",
              " 'BACKGROUND\\tYet , empirical evidence for individual ( trait ) differences in emotional eating and cognitive mechanisms that contribute to eating during sad mood remain equivocal .\\n',\n",
              " 'OBJECTIVE\\tThe aim of this study was to test if attention bias for food moderates the effect of self-reported emotional eating during sad mood ( vs neutral mood ) on actual food intake .\\n',\n",
              " 'OBJECTIVE\\tIt was expected that emotional eating is predictive of elevated attention for food and higher food intake after an experimentally induced sad mood and that attentional maintenance on food predicts food intake during a sad versus a neutral mood .\\n',\n",
              " 'METHODS\\tParticipants ( N = @ ) were randomly assigned to one of the two experimental mood induction conditions ( sad/neutral ) .\\n']"
            ]
          },
          "metadata": {},
          "execution_count": 7
        }
      ],
      "source": [
        "#Lets read the training lines\n",
        "train_lines = get_line(data_dir+\"train.txt\")\n",
        "train_lines[:20]#looking at the first 20"
      ]
    },
    {
      "cell_type": "code",
      "execution_count": 8,
      "metadata": {
        "colab": {
          "base_uri": "https://localhost:8080/"
        },
        "id": "7k_q1mf7Tw-R",
        "outputId": "d7d151ee-3f2d-4d23-c7c0-07b62af1dfc8"
      },
      "outputs": [
        {
          "output_type": "execute_result",
          "data": {
            "text/plain": [
              "210040"
            ]
          },
          "metadata": {},
          "execution_count": 8
        }
      ],
      "source": [
        "len(train_lines)"
      ]
    },
    {
      "cell_type": "markdown",
      "metadata": {
        "id": "KkcQyOPeV2bG"
      },
      "source": [
        "# writing  preprocssing function to structure data for modelling"
      ]
    },
    {
      "cell_type": "code",
      "execution_count": 9,
      "metadata": {
        "id": "qHAUhNVcUDof"
      },
      "outputs": [],
      "source": [
        "def preprocess_text_with_line_numbers(filename):\n",
        "  \"\"\"\n",
        "  Returns a dictionary of abstract data\n",
        "  \"\"\"\n",
        "  input_lines = get_line(filename)#get all lines from filename\n",
        "  abstract_line = \"\"\n",
        "  abstract_samples = []#create an empty list of abstracts\n",
        "\n",
        "  #loop through each line in the target file\n",
        "  for line in input_lines:\n",
        "    if line.startswith(\"###\"):\n",
        "      abstract_id = line\n",
        "      abstract_lines = \"\"\n",
        "    elif line.isspace():#check to see if line is a new line\n",
        "      abstract_line_split = abstract_lines.splitlines()#split the abstract into separate lines\n",
        "\n",
        "\n",
        "      #Iterate through each line in a single abstract\n",
        "      for abstract_line_number ,abstract_line in enumerate(abstract_line_split):\n",
        "        line_data = {}#create an empty list for each line\n",
        "        target_text_split = abstract_line.split(\"\\t\")#split the target label from the text\n",
        "        line_data[\"target\"] = target_text_split[0]#get target label\n",
        "        line_data[\"text\" ] = target_text_split[1].lower()\n",
        "        line_data[\"line_number\"] = abstract_line_number\n",
        "        line_data[\"total_lines\"] = len(abstract_line_split)\n",
        "\n",
        "        abstract_samples.append(line_data)#add lines to abstract samples list\n",
        "    else:#if the above conditions are not fulfilled\n",
        "       abstract_lines += line   \n",
        "  return abstract_samples"
      ]
    },
    {
      "cell_type": "code",
      "execution_count": 10,
      "metadata": {
        "colab": {
          "base_uri": "https://localhost:8080/"
        },
        "id": "k06icyvUZd2f",
        "outputId": "4417dd78-72e5-487d-f3df-9863059a17a2"
      },
      "outputs": [
        {
          "output_type": "stream",
          "name": "stdout",
          "text": [
            "180040 30135 30212\n",
            "CPU times: user 416 ms, sys: 90.8 ms, total: 506 ms\n",
            "Wall time: 505 ms\n"
          ]
        }
      ],
      "source": [
        "#get data from files and preprocessor\n",
        "%%time\n",
        "train_samples = preprocess_text_with_line_numbers(data_dir + \"train.txt\")\n",
        "dev_samples = preprocess_text_with_line_numbers(data_dir + \"dev.txt\")\n",
        "test_samples = preprocess_text_with_line_numbers(data_dir + \"test.txt\")\n",
        "print(len(train_samples), len(test_samples),len(dev_samples))"
      ]
    },
    {
      "cell_type": "code",
      "execution_count": 11,
      "metadata": {
        "colab": {
          "base_uri": "https://localhost:8080/"
        },
        "id": "-nDGwa2SaGnT",
        "outputId": "118b69e1-0614-43e9-8a60-b1b9d464c3ab"
      },
      "outputs": [
        {
          "output_type": "execute_result",
          "data": {
            "text/plain": [
              "[{'target': 'OBJECTIVE',\n",
              "  'text': 'to investigate the efficacy of @ weeks of daily low-dose oral prednisolone in improving pain , mobility , and systemic low-grade inflammation in the short term and whether the effect would be sustained at @ weeks in older adults with moderate to severe knee osteoarthritis ( oa ) .',\n",
              "  'line_number': 0,\n",
              "  'total_lines': 12},\n",
              " {'target': 'METHODS',\n",
              "  'text': 'a total of @ patients with primary knee oa were randomized @:@ ; @ received @ mg/day of prednisolone and @ received placebo for @ weeks .',\n",
              "  'line_number': 1,\n",
              "  'total_lines': 12},\n",
              " {'target': 'METHODS',\n",
              "  'text': 'outcome measures included pain reduction and improvement in function scores and systemic inflammation markers .',\n",
              "  'line_number': 2,\n",
              "  'total_lines': 12},\n",
              " {'target': 'METHODS',\n",
              "  'text': 'pain was assessed using the visual analog pain scale ( @-@ mm ) .',\n",
              "  'line_number': 3,\n",
              "  'total_lines': 12},\n",
              " {'target': 'METHODS',\n",
              "  'text': 'secondary outcome measures included the western ontario and mcmaster universities osteoarthritis index scores , patient global assessment ( pga ) of the severity of knee oa , and @-min walk distance ( @mwd ) .',\n",
              "  'line_number': 4,\n",
              "  'total_lines': 12},\n",
              " {'target': 'METHODS',\n",
              "  'text': 'serum levels of interleukin @ ( il-@ ) , il-@ , tumor necrosis factor ( tnf ) - , and high-sensitivity c-reactive protein ( hscrp ) were measured .',\n",
              "  'line_number': 5,\n",
              "  'total_lines': 12},\n",
              " {'target': 'RESULTS',\n",
              "  'text': 'there was a clinically relevant reduction in the intervention group compared to the placebo group for knee pain , physical function , pga , and @mwd at @ weeks .',\n",
              "  'line_number': 6,\n",
              "  'total_lines': 12},\n",
              " {'target': 'RESULTS',\n",
              "  'text': 'the mean difference between treatment arms ( @ % ci ) was @ ( @-@ @ ) , p < @ ; @ ( @-@ @ ) , p < @ ; @ ( @-@ @ ) , p < @ ; and @ ( @-@ @ ) , p < @ , respectively .',\n",
              "  'line_number': 7,\n",
              "  'total_lines': 12},\n",
              " {'target': 'RESULTS',\n",
              "  'text': 'further , there was a clinically relevant reduction in the serum levels of il-@ , il-@ , tnf - , and hscrp at @ weeks in the intervention group when compared to the placebo group .',\n",
              "  'line_number': 8,\n",
              "  'total_lines': 12},\n",
              " {'target': 'RESULTS',\n",
              "  'text': 'these differences remained significant at @ weeks .',\n",
              "  'line_number': 9,\n",
              "  'total_lines': 12}]"
            ]
          },
          "metadata": {},
          "execution_count": 11
        }
      ],
      "source": [
        "train_samples[:10]"
      ]
    },
    {
      "cell_type": "markdown",
      "metadata": {
        "id": "xI-WXPhYamuF"
      },
      "source": [
        "Performing Visual data analysis"
      ]
    },
    {
      "cell_type": "code",
      "execution_count": 12,
      "metadata": {
        "colab": {
          "base_uri": "https://localhost:8080/",
          "height": 424
        },
        "id": "Tr-4bpgmbHzb",
        "outputId": "d363e048-d6fe-466d-d200-cb4e6dab736b"
      },
      "outputs": [
        {
          "output_type": "execute_result",
          "data": {
            "text/plain": [
              "             target                                               text  \\\n",
              "0         OBJECTIVE  to investigate the efficacy of @ weeks of dail...   \n",
              "1           METHODS  a total of @ patients with primary knee oa wer...   \n",
              "2           METHODS  outcome measures included pain reduction and i...   \n",
              "3           METHODS  pain was assessed using the visual analog pain...   \n",
              "4           METHODS  secondary outcome measures included the wester...   \n",
              "...             ...                                                ...   \n",
              "180035      RESULTS  for the absolute change in percent atheroma vo...   \n",
              "180036      RESULTS  for pav , a significantly greater percentage o...   \n",
              "180037      RESULTS  both strategies had acceptable side effect pro...   \n",
              "180038  CONCLUSIONS  compared with standard statin monotherapy , th...   \n",
              "180039  CONCLUSIONS  ( plaque regression with cholesterol absorptio...   \n",
              "\n",
              "        line_number  total_lines  \n",
              "0                 0           12  \n",
              "1                 1           12  \n",
              "2                 2           12  \n",
              "3                 3           12  \n",
              "4                 4           12  \n",
              "...             ...          ...  \n",
              "180035            7           12  \n",
              "180036            8           12  \n",
              "180037            9           12  \n",
              "180038           10           12  \n",
              "180039           11           12  \n",
              "\n",
              "[180040 rows x 4 columns]"
            ],
            "text/html": [
              "\n",
              "  <div id=\"df-03a19e84-9ac9-4e49-8483-a68757e763ef\">\n",
              "    <div class=\"colab-df-container\">\n",
              "      <div>\n",
              "<style scoped>\n",
              "    .dataframe tbody tr th:only-of-type {\n",
              "        vertical-align: middle;\n",
              "    }\n",
              "\n",
              "    .dataframe tbody tr th {\n",
              "        vertical-align: top;\n",
              "    }\n",
              "\n",
              "    .dataframe thead th {\n",
              "        text-align: right;\n",
              "    }\n",
              "</style>\n",
              "<table border=\"1\" class=\"dataframe\">\n",
              "  <thead>\n",
              "    <tr style=\"text-align: right;\">\n",
              "      <th></th>\n",
              "      <th>target</th>\n",
              "      <th>text</th>\n",
              "      <th>line_number</th>\n",
              "      <th>total_lines</th>\n",
              "    </tr>\n",
              "  </thead>\n",
              "  <tbody>\n",
              "    <tr>\n",
              "      <th>0</th>\n",
              "      <td>OBJECTIVE</td>\n",
              "      <td>to investigate the efficacy of @ weeks of dail...</td>\n",
              "      <td>0</td>\n",
              "      <td>12</td>\n",
              "    </tr>\n",
              "    <tr>\n",
              "      <th>1</th>\n",
              "      <td>METHODS</td>\n",
              "      <td>a total of @ patients with primary knee oa wer...</td>\n",
              "      <td>1</td>\n",
              "      <td>12</td>\n",
              "    </tr>\n",
              "    <tr>\n",
              "      <th>2</th>\n",
              "      <td>METHODS</td>\n",
              "      <td>outcome measures included pain reduction and i...</td>\n",
              "      <td>2</td>\n",
              "      <td>12</td>\n",
              "    </tr>\n",
              "    <tr>\n",
              "      <th>3</th>\n",
              "      <td>METHODS</td>\n",
              "      <td>pain was assessed using the visual analog pain...</td>\n",
              "      <td>3</td>\n",
              "      <td>12</td>\n",
              "    </tr>\n",
              "    <tr>\n",
              "      <th>4</th>\n",
              "      <td>METHODS</td>\n",
              "      <td>secondary outcome measures included the wester...</td>\n",
              "      <td>4</td>\n",
              "      <td>12</td>\n",
              "    </tr>\n",
              "    <tr>\n",
              "      <th>...</th>\n",
              "      <td>...</td>\n",
              "      <td>...</td>\n",
              "      <td>...</td>\n",
              "      <td>...</td>\n",
              "    </tr>\n",
              "    <tr>\n",
              "      <th>180035</th>\n",
              "      <td>RESULTS</td>\n",
              "      <td>for the absolute change in percent atheroma vo...</td>\n",
              "      <td>7</td>\n",
              "      <td>12</td>\n",
              "    </tr>\n",
              "    <tr>\n",
              "      <th>180036</th>\n",
              "      <td>RESULTS</td>\n",
              "      <td>for pav , a significantly greater percentage o...</td>\n",
              "      <td>8</td>\n",
              "      <td>12</td>\n",
              "    </tr>\n",
              "    <tr>\n",
              "      <th>180037</th>\n",
              "      <td>RESULTS</td>\n",
              "      <td>both strategies had acceptable side effect pro...</td>\n",
              "      <td>9</td>\n",
              "      <td>12</td>\n",
              "    </tr>\n",
              "    <tr>\n",
              "      <th>180038</th>\n",
              "      <td>CONCLUSIONS</td>\n",
              "      <td>compared with standard statin monotherapy , th...</td>\n",
              "      <td>10</td>\n",
              "      <td>12</td>\n",
              "    </tr>\n",
              "    <tr>\n",
              "      <th>180039</th>\n",
              "      <td>CONCLUSIONS</td>\n",
              "      <td>( plaque regression with cholesterol absorptio...</td>\n",
              "      <td>11</td>\n",
              "      <td>12</td>\n",
              "    </tr>\n",
              "  </tbody>\n",
              "</table>\n",
              "<p>180040 rows × 4 columns</p>\n",
              "</div>\n",
              "      <button class=\"colab-df-convert\" onclick=\"convertToInteractive('df-03a19e84-9ac9-4e49-8483-a68757e763ef')\"\n",
              "              title=\"Convert this dataframe to an interactive table.\"\n",
              "              style=\"display:none;\">\n",
              "        \n",
              "  <svg xmlns=\"http://www.w3.org/2000/svg\" height=\"24px\"viewBox=\"0 0 24 24\"\n",
              "       width=\"24px\">\n",
              "    <path d=\"M0 0h24v24H0V0z\" fill=\"none\"/>\n",
              "    <path d=\"M18.56 5.44l.94 2.06.94-2.06 2.06-.94-2.06-.94-.94-2.06-.94 2.06-2.06.94zm-11 1L8.5 8.5l.94-2.06 2.06-.94-2.06-.94L8.5 2.5l-.94 2.06-2.06.94zm10 10l.94 2.06.94-2.06 2.06-.94-2.06-.94-.94-2.06-.94 2.06-2.06.94z\"/><path d=\"M17.41 7.96l-1.37-1.37c-.4-.4-.92-.59-1.43-.59-.52 0-1.04.2-1.43.59L10.3 9.45l-7.72 7.72c-.78.78-.78 2.05 0 2.83L4 21.41c.39.39.9.59 1.41.59.51 0 1.02-.2 1.41-.59l7.78-7.78 2.81-2.81c.8-.78.8-2.07 0-2.86zM5.41 20L4 18.59l7.72-7.72 1.47 1.35L5.41 20z\"/>\n",
              "  </svg>\n",
              "      </button>\n",
              "      \n",
              "  <style>\n",
              "    .colab-df-container {\n",
              "      display:flex;\n",
              "      flex-wrap:wrap;\n",
              "      gap: 12px;\n",
              "    }\n",
              "\n",
              "    .colab-df-convert {\n",
              "      background-color: #E8F0FE;\n",
              "      border: none;\n",
              "      border-radius: 50%;\n",
              "      cursor: pointer;\n",
              "      display: none;\n",
              "      fill: #1967D2;\n",
              "      height: 32px;\n",
              "      padding: 0 0 0 0;\n",
              "      width: 32px;\n",
              "    }\n",
              "\n",
              "    .colab-df-convert:hover {\n",
              "      background-color: #E2EBFA;\n",
              "      box-shadow: 0px 1px 2px rgba(60, 64, 67, 0.3), 0px 1px 3px 1px rgba(60, 64, 67, 0.15);\n",
              "      fill: #174EA6;\n",
              "    }\n",
              "\n",
              "    [theme=dark] .colab-df-convert {\n",
              "      background-color: #3B4455;\n",
              "      fill: #D2E3FC;\n",
              "    }\n",
              "\n",
              "    [theme=dark] .colab-df-convert:hover {\n",
              "      background-color: #434B5C;\n",
              "      box-shadow: 0px 1px 3px 1px rgba(0, 0, 0, 0.15);\n",
              "      filter: drop-shadow(0px 1px 2px rgba(0, 0, 0, 0.3));\n",
              "      fill: #FFFFFF;\n",
              "    }\n",
              "  </style>\n",
              "\n",
              "      <script>\n",
              "        const buttonEl =\n",
              "          document.querySelector('#df-03a19e84-9ac9-4e49-8483-a68757e763ef button.colab-df-convert');\n",
              "        buttonEl.style.display =\n",
              "          google.colab.kernel.accessAllowed ? 'block' : 'none';\n",
              "\n",
              "        async function convertToInteractive(key) {\n",
              "          const element = document.querySelector('#df-03a19e84-9ac9-4e49-8483-a68757e763ef');\n",
              "          const dataTable =\n",
              "            await google.colab.kernel.invokeFunction('convertToInteractive',\n",
              "                                                     [key], {});\n",
              "          if (!dataTable) return;\n",
              "\n",
              "          const docLinkHtml = 'Like what you see? Visit the ' +\n",
              "            '<a target=\"_blank\" href=https://colab.research.google.com/notebooks/data_table.ipynb>data table notebook</a>'\n",
              "            + ' to learn more about interactive tables.';\n",
              "          element.innerHTML = '';\n",
              "          dataTable['output_type'] = 'display_data';\n",
              "          await google.colab.output.renderOutput(dataTable, element);\n",
              "          const docLink = document.createElement('div');\n",
              "          docLink.innerHTML = docLinkHtml;\n",
              "          element.appendChild(docLink);\n",
              "        }\n",
              "      </script>\n",
              "    </div>\n",
              "  </div>\n",
              "  "
            ]
          },
          "metadata": {},
          "execution_count": 12
        }
      ],
      "source": [
        "import pandas as pd\n",
        "train_df = pd.DataFrame(train_samples)\n",
        "test_df = pd.DataFrame(test_samples)\n",
        "val_df = pd.DataFrame(dev_samples)\n",
        "train_df"
      ]
    },
    {
      "cell_type": "code",
      "execution_count": 13,
      "metadata": {
        "colab": {
          "base_uri": "https://localhost:8080/"
        },
        "id": "Wf-uIfZkbWgg",
        "outputId": "856b322e-60fd-4dd8-e35f-b9f8de5def45"
      },
      "outputs": [
        {
          "output_type": "execute_result",
          "data": {
            "text/plain": [
              "METHODS        59353\n",
              "RESULTS        57953\n",
              "CONCLUSIONS    27168\n",
              "BACKGROUND     21727\n",
              "OBJECTIVE      13839\n",
              "Name: target, dtype: int64"
            ]
          },
          "metadata": {},
          "execution_count": 13
        }
      ],
      "source": [
        "#Distribution of labels\n",
        "train_df.target.value_counts()"
      ]
    },
    {
      "cell_type": "code",
      "execution_count": 14,
      "metadata": {
        "colab": {
          "base_uri": "https://localhost:8080/",
          "height": 267
        },
        "id": "CTkNMqrKbqpf",
        "outputId": "89676ba6-5c03-4680-aef4-962af5d725e6"
      },
      "outputs": [
        {
          "output_type": "display_data",
          "data": {
            "text/plain": [
              "<Figure size 432x288 with 1 Axes>"
            ],
            "image/png": "[encoded data removed]"
          },
          "metadata": {
            "needs_background": "light"
          }
        }
      ],
      "source": [
        "train_df.total_lines.plot.hist();"
      ]
    },
    {
      "cell_type": "markdown",
      "metadata": {
        "id": "PNSNCWUNb2_T"
      },
      "source": [
        "#Get list of sentences"
      ]
    },
    {
      "cell_type": "code",
      "execution_count": 15,
      "metadata": {
        "colab": {
          "base_uri": "https://localhost:8080/"
        },
        "id": "xHju7eN_cDJh",
        "outputId": "d8a40e4a-d01e-47eb-def6-6107d0a24ae9"
      },
      "outputs": [
        {
          "output_type": "execute_result",
          "data": {
            "text/plain": [
              "['to investigate the efficacy of @ weeks of daily low-dose oral prednisolone in improving pain , mobility , and systemic low-grade inflammation in the short term and whether the effect would be sustained at @ weeks in older adults with moderate to severe knee osteoarthritis ( oa ) .',\n",
              " 'a total of @ patients with primary knee oa were randomized @:@ ; @ received @ mg/day of prednisolone and @ received placebo for @ weeks .',\n",
              " 'outcome measures included pain reduction and improvement in function scores and systemic inflammation markers .',\n",
              " 'pain was assessed using the visual analog pain scale ( @-@ mm ) .',\n",
              " 'secondary outcome measures included the western ontario and mcmaster universities osteoarthritis index scores , patient global assessment ( pga ) of the severity of knee oa , and @-min walk distance ( @mwd ) .',\n",
              " 'serum levels of interleukin @ ( il-@ ) , il-@ , tumor necrosis factor ( tnf ) - , and high-sensitivity c-reactive protein ( hscrp ) were measured .',\n",
              " 'there was a clinically relevant reduction in the intervention group compared to the placebo group for knee pain , physical function , pga , and @mwd at @ weeks .',\n",
              " 'the mean difference between treatment arms ( @ % ci ) was @ ( @-@ @ ) , p < @ ; @ ( @-@ @ ) , p < @ ; @ ( @-@ @ ) , p < @ ; and @ ( @-@ @ ) , p < @ , respectively .',\n",
              " 'further , there was a clinically relevant reduction in the serum levels of il-@ , il-@ , tnf - , and hscrp at @ weeks in the intervention group when compared to the placebo group .',\n",
              " 'these differences remained significant at @ weeks .']"
            ]
          },
          "metadata": {},
          "execution_count": 15
        }
      ],
      "source": [
        "train_sentences = train_df[\"text\"].to_list()\n",
        "val_sentences = val_df[\"text\"].to_list()\n",
        "test_sentences = test_df[\"text\"].to_list()\n",
        "train_sentences[:10]"
      ]
    },
    {
      "cell_type": "markdown",
      "metadata": {
        "id": "VVuAhBO1cXiK"
      },
      "source": [
        "Turning our labels into numbers"
      ]
    },
    {
      "cell_type": "code",
      "execution_count": 16,
      "metadata": {
        "colab": {
          "base_uri": "https://localhost:8080/"
        },
        "id": "3iz3IoIXc3i9",
        "outputId": "7ea7eac0-637b-495f-ae27-88c9c9c949f0"
      },
      "outputs": [
        {
          "output_type": "execute_result",
          "data": {
            "text/plain": [
              "array([[0., 0., 0., 1., 0.],\n",
              "       [0., 0., 1., 0., 0.],\n",
              "       [0., 0., 1., 0., 0.],\n",
              "       ...,\n",
              "       [0., 0., 0., 0., 1.],\n",
              "       [0., 1., 0., 0., 0.],\n",
              "       [0., 1., 0., 0., 0.]])"
            ]
          },
          "metadata": {},
          "execution_count": 16
        }
      ],
      "source": [
        "#one hot encode labels\n",
        "from sklearn.preprocessing  import OneHotEncoder\n",
        "one_hot_encoder = OneHotEncoder(sparse = False)\n",
        "train_labels_one_hot = one_hot_encoder.fit_transform(train_df[\"target\"].to_numpy().reshape(-1,1))\n",
        "val_labels_one_hot = one_hot_encoder.transform(val_df[\"target\"].to_numpy().reshape(-1,1))\n",
        "test_labels_one_hot = one_hot_encoder.transform(test_df[\"target\"].to_numpy().reshape(-1,1))\n",
        "train_labels_one_hot"
      ]
    },
    {
      "cell_type": "code",
      "execution_count": 17,
      "metadata": {
        "colab": {
          "base_uri": "https://localhost:8080/"
        },
        "id": "vqqlL6z1eCWL",
        "outputId": "0463fa19-168f-4918-e844-b79a0a7e8f64"
      },
      "outputs": [
        {
          "output_type": "execute_result",
          "data": {
            "text/plain": [
              "<tf.Tensor: shape=(180040, 5), dtype=float64, numpy=\n",
              "array([[0., 0., 0., 1., 0.],\n",
              "       [0., 0., 1., 0., 0.],\n",
              "       [0., 0., 1., 0., 0.],\n",
              "       ...,\n",
              "       [0., 0., 0., 0., 1.],\n",
              "       [0., 1., 0., 0., 0.],\n",
              "       [0., 1., 0., 0., 0.]])>"
            ]
          },
          "metadata": {},
          "execution_count": 17
        }
      ],
      "source": [
        "import tensorflow as tf\n",
        "tf.constant(train_labels_one_hot)#turning array to tensors"
      ]
    },
    {
      "cell_type": "markdown",
      "metadata": {
        "id": "sSSI3CcBeOob"
      },
      "source": [
        "Label encode labels"
      ]
    },
    {
      "cell_type": "code",
      "execution_count": 18,
      "metadata": {
        "colab": {
          "base_uri": "https://localhost:8080/"
        },
        "id": "Tisgg0sH89aJ",
        "outputId": "04d78676-e893-4230-937c-269320c35b34"
      },
      "outputs": [
        {
          "output_type": "execute_result",
          "data": {
            "text/plain": [
              "array([3, 2, 2, ..., 4, 1, 1])"
            ]
          },
          "metadata": {},
          "execution_count": 18
        }
      ],
      "source": [
        "#extract labels(\"target\" columns )and encode them into integers\n",
        "from sklearn.preprocessing import LabelEncoder\n",
        "label_encoder = LabelEncoder()\n",
        "train_labels_encoded = label_encoder.fit_transform(train_df[\"target\"].to_numpy())\n",
        "val_labels_encoded = label_encoder.transform(val_df[\"target\"].to_numpy())\n",
        "test_labels_encoded = label_encoder.transform(test_df[\"target\"].to_numpy())\n",
        "train_labels_encoded"
      ]
    },
    {
      "cell_type": "code",
      "execution_count": 19,
      "metadata": {
        "colab": {
          "base_uri": "https://localhost:8080/"
        },
        "id": "EBx6tcLW9u4g",
        "outputId": "e88933af-7cb8-4c1b-c9b1-6d944314af3f"
      },
      "outputs": [
        {
          "output_type": "execute_result",
          "data": {
            "text/plain": [
              "(5, array(['BACKGROUND', 'CONCLUSIONS', 'METHODS', 'OBJECTIVE', 'RESULTS'],\n",
              "       dtype=object))"
            ]
          },
          "metadata": {},
          "execution_count": 19
        }
      ],
      "source": [
        "#get classes fro label encoder instance\n",
        "num_classes = len(label_encoder.classes_)\n",
        "class_names = label_encoder.classes_\n",
        "num_classes, class_names\n"
      ]
    },
    {
      "cell_type": "markdown",
      "metadata": {
        "id": "sZqxfsHl-yYu"
      },
      "source": [
        "#Building our baseline model"
      ]
    },
    {
      "cell_type": "code",
      "execution_count": 20,
      "metadata": {
        "colab": {
          "base_uri": "https://localhost:8080/"
        },
        "id": "70zAJNsZ-700",
        "outputId": "0dd4e37b-0be4-42ec-ac5b-01c3f6972ff5"
      },
      "outputs": [
        {
          "output_type": "execute_result",
          "data": {
            "text/plain": [
              "Pipeline(steps=[('tfidf', TfidfVectorizer()), ('clf', MultinomialNB())])"
            ]
          },
          "metadata": {},
          "execution_count": 20
        }
      ],
      "source": [
        "from sklearn.feature_extraction.text import TfidfVectorizer\n",
        "from sklearn.naive_bayes import MultinomialNB\n",
        "from sklearn.pipeline import Pipeline\n",
        "\n",
        "#create a pipeline\n",
        "model_0 = Pipeline([\n",
        "    (\"tfidf\",TfidfVectorizer()),\n",
        "    (\"clf\", MultinomialNB())\n",
        "\n",
        "])\n",
        "model_0.fit(X = train_sentences, y = train_labels_encoded)"
      ]
    },
    {
      "cell_type": "code",
      "execution_count": 21,
      "metadata": {
        "colab": {
          "base_uri": "https://localhost:8080/"
        },
        "id": "SCf0bNepAs6f",
        "outputId": "92fd8544-181f-49a9-8378-d74b3a2a483d"
      },
      "outputs": [
        {
          "output_type": "execute_result",
          "data": {
            "text/plain": [
              "0.7218323844829869"
            ]
          },
          "metadata": {},
          "execution_count": 21
        }
      ],
      "source": [
        "model_0.score(X = val_sentences, y = val_labels_encoded)#finding the accuracy of our model"
      ]
    },
    {
      "cell_type": "code",
      "execution_count": 22,
      "metadata": {
        "colab": {
          "base_uri": "https://localhost:8080/"
        },
        "id": "eyQztumpA8Fm",
        "outputId": "87f96bb2-4f01-4340-b76c-1229f339bf53"
      },
      "outputs": [
        {
          "output_type": "execute_result",
          "data": {
            "text/plain": [
              "array([4, 1, 3, ..., 4, 4, 1])"
            ]
          },
          "metadata": {},
          "execution_count": 22
        }
      ],
      "source": [
        "baseline_pred = model_0.predict(val_sentences)\n",
        "baseline_pred"
      ]
    },
    {
      "cell_type": "code",
      "execution_count": 23,
      "metadata": {
        "colab": {
          "base_uri": "https://localhost:8080/"
        },
        "id": "nRrw5IofDuSq",
        "outputId": "e6bcc07c-9d3f-4626-a627-3b1a3b4f575e"
      },
      "outputs": [
        {
          "output_type": "stream",
          "name": "stdout",
          "text": [
            "Looking in indexes: https://pypi.org/simple, https://us-python.pkg.dev/colab-wheels/public/simple/\n",
            "Collecting sklearn\n",
            "  Downloading sklearn-0.0.tar.gz (1.1 kB)\n",
            "Requirement already satisfied: scikit-learn in /usr/local/lib/python3.7/dist-packages (from sklearn) (1.0.2)\n",
            "Requirement already satisfied: scipy>=1.1.0 in /usr/local/lib/python3.7/dist-packages (from scikit-learn->sklearn) (1.7.3)\n",
            "Requirement already satisfied: numpy>=1.14.6 in /usr/local/lib/python3.7/dist-packages (from scikit-learn->sklearn) (1.21.6)\n",
            "Requirement already satisfied: threadpoolctl>=2.0.0 in /usr/local/lib/python3.7/dist-packages (from scikit-learn->sklearn) (3.1.0)\n",
            "Requirement already satisfied: joblib>=0.11 in /usr/local/lib/python3.7/dist-packages (from scikit-learn->sklearn) (1.2.0)\n",
            "Building wheels for collected packages: sklearn\n",
            "  Building wheel for sklearn (setup.py) ... \u001b[?25l\u001b[?25hdone\n",
            "  Created wheel for sklearn: filename=sklearn-0.0-py2.py3-none-any.whl size=1310 sha256=b5eed10779a459e5d8e287485163347dfbc297eec03e4087646a510a15428825\n",
            "  Stored in directory: /root/.cache/pip/wheels/46/ef/c3/157e41f5ee1372d1be90b09f74f82b10e391eaacca8f22d33e\n",
            "Successfully built sklearn\n",
            "Installing collected packages: sklearn\n",
            "Successfully installed sklearn-0.0\n"
          ]
        }
      ],
      "source": [
        "pip install sklearn"
      ]
    },
    {
      "cell_type": "markdown",
      "metadata": {
        "id": "tt-pdzagBK3v"
      },
      "source": [
        "Predicting the accuracy, precision , recall , F1 score"
      ]
    },
    {
      "cell_type": "code",
      "execution_count": 24,
      "metadata": {
        "id": "EbnaiFsLBVZU"
      },
      "outputs": [],
      "source": [
        "from sklearn.metrics import precision_recall_fscore_support,accuracy_score\n",
        "def calculate_results(y_true,y_pred):\n",
        "    \"\"\"Calculates the accuracy, precision , Recall and F1 score of the predictions of our model\"\"\"\n",
        "    accuracy = accuracy_score(y_true,y_pred)\n",
        "    precision,recall,f1_score,_ = precision_recall_fscore_support(y_true, y_pred,average = \"weighted\")\n",
        "    return {\"accuracy\":accuracy,\"precision\":precision,\"recall\":recall,\"f1_score\":f1_score}"
      ]
    },
    {
      "cell_type": "code",
      "execution_count": 25,
      "metadata": {
        "colab": {
          "base_uri": "https://localhost:8080/"
        },
        "id": "npqKn7KSDcL8",
        "outputId": "ba33664a-9690-405b-e698-b1f2aa7961ea"
      },
      "outputs": [
        {
          "output_type": "execute_result",
          "data": {
            "text/plain": [
              "{'accuracy': 0.7218323844829869,\n",
              " 'precision': 0.7186466952323352,\n",
              " 'recall': 0.7218323844829869,\n",
              " 'f1_score': 0.6989250353450294}"
            ]
          },
          "metadata": {},
          "execution_count": 25
        }
      ],
      "source": [
        "baseline_results = calculate_results(y_true = val_labels_encoded, y_pred = baseline_pred)\n",
        "baseline_results"
      ]
    },
    {
      "cell_type": "markdown",
      "metadata": {
        "id": "XjVTcAbvEEFa"
      },
      "source": [
        "#Preparing our data(text) for deep sequence models"
      ]
    },
    {
      "cell_type": "code",
      "execution_count": 26,
      "metadata": {
        "id": "KFR8zD2LEvK3"
      },
      "outputs": [],
      "source": [
        "import numpy as np\n",
        "from tensorflow.keras import layers\n"
      ]
    },
    {
      "cell_type": "code",
      "execution_count": 27,
      "metadata": {
        "colab": {
          "base_uri": "https://localhost:8080/"
        },
        "id": "15udXIqDFAxJ",
        "outputId": "ae692525-702a-4490-e09d-44a206f7a669"
      },
      "outputs": [
        {
          "output_type": "execute_result",
          "data": {
            "text/plain": [
              "26.338269273494777"
            ]
          },
          "metadata": {},
          "execution_count": 27
        }
      ],
      "source": [
        "#How long an average sentence is:\n",
        "sent_lens = [len(sentence.split()) for sentence in train_sentences]\n",
        "average_sent_lens = np.mean(sent_lens)\n",
        "average_sent_lens"
      ]
    },
    {
      "cell_type": "code",
      "execution_count": 28,
      "metadata": {
        "colab": {
          "base_uri": "https://localhost:8080/",
          "height": 265
        },
        "id": "yAUnQd-jFcqD",
        "outputId": "5cb3ab0b-0113-472b-f519-2e0777af659f"
      },
      "outputs": [
        {
          "output_type": "display_data",
          "data": {
            "text/plain": [
              "<Figure size 432x288 with 1 Axes>"
            ],
            "image/png": "[encoded data removed]"
          },
          "metadata": {
            "needs_background": "light"
          }
        }
      ],
      "source": [
        "#What the distribution looks like\n",
        "import matplotlib.pyplot as plt\n",
        "plt.hist(sent_lens,bins = 20);"
      ]
    },
    {
      "cell_type": "code",
      "execution_count": 29,
      "metadata": {
        "colab": {
          "base_uri": "https://localhost:8080/"
        },
        "id": "h0UiFtw6Fysi",
        "outputId": "908d2883-cbf2-43ec-c170-ea3bb1c58307"
      },
      "outputs": [
        {
          "output_type": "execute_result",
          "data": {
            "text/plain": [
              "55"
            ]
          },
          "metadata": {},
          "execution_count": 29
        }
      ],
      "source": [
        "#How long a sentence length covers the majority of examples\n",
        "output_seq_len = int(np.percentile(sent_lens,95))\n",
        "output_seq_len"
      ]
    },
    {
      "cell_type": "code",
      "execution_count": 30,
      "metadata": {
        "colab": {
          "base_uri": "https://localhost:8080/"
        },
        "id": "djU8Y45dGaj2",
        "outputId": "a8b67427-4e91-4d7e-838e-4dd86acaa00f"
      },
      "outputs": [
        {
          "output_type": "execute_result",
          "data": {
            "text/plain": [
              "296"
            ]
          },
          "metadata": {},
          "execution_count": 30
        }
      ],
      "source": [
        "#Maximum sequence length in training set\n",
        "max(sent_lens)"
      ]
    },
    {
      "cell_type": "markdown",
      "metadata": {
        "id": "Kui4z5PbGixJ"
      },
      "source": [
        "#Creating a text vectorizer to map our tokens\n",
        "Creating a layers which maps our texts from words to numbers"
      ]
    },
    {
      "cell_type": "code",
      "execution_count": 31,
      "metadata": {
        "id": "sBi1rRJbG2zh"
      },
      "outputs": [],
      "source": [
        "#how many word in our vocab\n",
        "max_token = 68000\n",
        "from tensorflow.keras.layers.experimental.preprocessing import TextVectorization"
      ]
    },
    {
      "cell_type": "code",
      "execution_count": 32,
      "metadata": {
        "id": "iPlDrOrMIHNu"
      },
      "outputs": [],
      "source": [
        "text_vectorizer = TextVectorization(max_tokens = max_token, output_sequence_length = output_seq_len)"
      ]
    },
    {
      "cell_type": "code",
      "execution_count": 33,
      "metadata": {
        "id": "M93lNjasIaEC"
      },
      "outputs": [],
      "source": [
        "#Adapt text vectorizer to training sentences\n",
        "text_vectorizer.adapt(train_sentences)"
      ]
    },
    {
      "cell_type": "code",
      "execution_count": 34,
      "metadata": {
        "colab": {
          "base_uri": "https://localhost:8080/"
        },
        "id": "zWvSZfjEIt-t",
        "outputId": "30bc11cc-b559-48ff-c3be-a47851f0fecf"
      },
      "outputs": [
        {
          "output_type": "stream",
          "name": "stdout",
          "text": [
            "Random sentence:@ patients were randomised to intervention or comparison groups and @/@ consultations were tape-recorded .\n",
            "Length of target sentence:15\n"
          ]
        },
        {
          "output_type": "execute_result",
          "data": {
            "text/plain": [
              "<tf.Tensor: shape=(1, 55), dtype=int64, numpy=\n",
              "array([[   12,     9,   210,     6,    38,    16,   421,    24,     3,\n",
              "         4496,     9, 28227,     0,     0,     0,     0,     0,     0,\n",
              "            0,     0,     0,     0,     0,     0,     0,     0,     0,\n",
              "            0,     0,     0,     0,     0,     0,     0,     0,     0,\n",
              "            0,     0,     0,     0,     0,     0,     0,     0,     0,\n",
              "            0,     0,     0,     0,     0,     0,     0,     0,     0,\n",
              "            0]])>"
            ]
          },
          "metadata": {},
          "execution_count": 34
        }
      ],
      "source": [
        "#Test out text vectorizer on random sentences\n",
        "import random\n",
        "target_sentence = random.choice(train_sentences)\n",
        "print(f\"Random sentence:{target_sentence}\")\n",
        "print(f\"Length of target sentence:{len(target_sentence.split())}\")\n",
        "text_vectorizer([target_sentence])"
      ]
    },
    {
      "cell_type": "code",
      "execution_count": 35,
      "metadata": {
        "colab": {
          "base_uri": "https://localhost:8080/"
        },
        "id": "9dQ5Y75hJIrs",
        "outputId": "1cc8c73d-a195-4a28-b60e-cdffa73ab0f1"
      },
      "outputs": [
        {
          "output_type": "stream",
          "name": "stdout",
          "text": [
            "The most number of words:64841\n",
            "the most common words = ['', '[UNK]', 'the', 'and', 'of']\n",
            "The 5 least common words = ['aainduced', 'aaigroup', 'aachener', 'aachen', 'aaacp']\n"
          ]
        }
      ],
      "source": [
        "#How many words in our training vocabulary\n",
        "rct_20k_text_vocab = text_vectorizer.get_vocabulary()\n",
        "print(f\"The most number of words:{len(rct_20k_text_vocab)}\")\n",
        "print(f\"the most common words = {rct_20k_text_vocab[:5]}\")\n",
        "print(f\"The 5 least common words = {rct_20k_text_vocab[-5:]}\")"
      ]
    },
    {
      "cell_type": "code",
      "execution_count": 36,
      "metadata": {
        "colab": {
          "base_uri": "https://localhost:8080/"
        },
        "id": "fmHWyCu1KRmK",
        "outputId": "2f4538f0-2d37-45e7-c16a-dd0315486ca9"
      },
      "outputs": [
        {
          "output_type": "execute_result",
          "data": {
            "text/plain": [
              "{'name': 'text_vectorization',\n",
              " 'trainable': True,\n",
              " 'batch_input_shape': (None,),\n",
              " 'dtype': 'string',\n",
              " 'max_tokens': 68000,\n",
              " 'standardize': 'lower_and_strip_punctuation',\n",
              " 'split': 'whitespace',\n",
              " 'ngrams': None,\n",
              " 'output_mode': 'int',\n",
              " 'output_sequence_length': 55,\n",
              " 'pad_to_max_tokens': False,\n",
              " 'sparse': False,\n",
              " 'ragged': False,\n",
              " 'vocabulary': None,\n",
              " 'idf_weights': None}"
            ]
          },
          "metadata": {},
          "execution_count": 36
        }
      ],
      "source": [
        "#get the config of text vectorizer\n",
        "text_vectorizer.get_config()"
      ]
    },
    {
      "cell_type": "markdown",
      "metadata": {
        "id": "R4t86BgBKk_o"
      },
      "source": [
        "#Ceating a custom token embedding layer"
      ]
    },
    {
      "cell_type": "code",
      "execution_count": 37,
      "metadata": {
        "id": "lsAduA6hl7Bf"
      },
      "outputs": [],
      "source": [
        "token_embed = layers.Embedding(input_dim = len(rct_20k_text_vocab),\n",
        "                               output_dim = 128, mask_zero = True,\n",
        "                               name = \"token_embedding\"\n",
        ")\n"
      ]
    },
    {
      "cell_type": "code",
      "execution_count": 38,
      "metadata": {
        "colab": {
          "base_uri": "https://localhost:8080/"
        },
        "id": "GCC3qrlnm9nf",
        "outputId": "ed10a70f-abf5-4326-daaa-8a5a6fb2eb18"
      },
      "outputs": [
        {
          "output_type": "stream",
          "name": "stdout",
          "text": [
            "Sentence before vectorization = \n",
            "@ patients were randomised to intervention or comparison groups and @/@ consultations were tape-recorded .\n",
            "\n",
            "Vectorized sentence: \n",
            "[   12     9   210     6    38    16   421    24     3  4496     9 28227\n",
            "     0     0     0     0     0     0     0     0     0     0     0     0\n",
            "     0     0     0     0     0     0     0     0     0     0     0     0\n",
            "     0     0     0     0     0     0     0     0     0     0     0     0\n",
            "     0     0     0     0     0     0     0]\n",
            "\n",
            "Embedde sentence \n",
            "[[ 0.02960924  0.01097895  0.02247251 ... -0.03988066  0.03419534\n",
            "  -0.02491689]\n",
            " [-0.0451553  -0.004956   -0.01392274 ...  0.01188727  0.0336432\n",
            "  -0.01026473]\n",
            " [-0.00751263 -0.03022022 -0.04677368 ...  0.01510758 -0.04700559\n",
            "   0.01573093]\n",
            " ...\n",
            " [-0.04037279 -0.03736659  0.00555557 ... -0.00109123 -0.02593573\n",
            "  -0.02389667]\n",
            " [-0.04037279 -0.03736659  0.00555557 ... -0.00109123 -0.02593573\n",
            "  -0.02389667]\n",
            " [-0.04037279 -0.03736659  0.00555557 ... -0.00109123 -0.02593573\n",
            "  -0.02389667]]\n",
            "\n",
            "Shape of sentence:\n",
            "(55, 128)\n"
          ]
        }
      ],
      "source": [
        "print(f\"Sentence before vectorization = \\n{target_sentence}\\n\")\n",
        "vectorized_sentence = text_vectorizer(target_sentence)\n",
        "print(f\"Vectorized sentence: \\n{vectorized_sentence}\\n\")\n",
        "embedded_sentence = token_embed(vectorized_sentence)\n",
        "print(f\"Embedde sentence \\n{embedded_sentence}\\n\")\n",
        "print(f\"Shape of sentence:\\n{embedded_sentence.shape}\")"
      ]
    },
    {
      "cell_type": "markdown",
      "metadata": {
        "id": "8uLpfKQGnpKL"
      },
      "source": [
        "#creating datasets(making sure our data loads as fast as possible)"
      ]
    },
    {
      "cell_type": "code",
      "execution_count": 39,
      "metadata": {
        "id": "FO0XxUQporIG"
      },
      "outputs": [],
      "source": [
        "#Turn our data into tensorflow datasets\n",
        "train_dataset = tf.data.Dataset.from_tensor_slices((train_sentences,train_labels_one_hot))\n",
        "valid_dataset = tf.data.Dataset.from_tensor_slices((val_sentences,val_labels_one_hot))\n",
        "test_dataset = tf.data.Dataset.from_tensor_slices((test_sentences,test_labels_one_hot))"
      ]
    },
    {
      "cell_type": "code",
      "execution_count": 40,
      "metadata": {
        "colab": {
          "base_uri": "https://localhost:8080/"
        },
        "id": "qVrpu-H0pn-v",
        "outputId": "eb872907-d744-4453-c4dd-91c1d0cff1bc"
      },
      "outputs": [
        {
          "output_type": "execute_result",
          "data": {
            "text/plain": [
              "<TensorSliceDataset element_spec=(TensorSpec(shape=(), dtype=tf.string, name=None), TensorSpec(shape=(5,), dtype=tf.float64, name=None))>"
            ]
          },
          "metadata": {},
          "execution_count": 40
        }
      ],
      "source": [
        "train_dataset"
      ]
    },
    {
      "cell_type": "code",
      "execution_count": 41,
      "metadata": {
        "colab": {
          "base_uri": "https://localhost:8080/"
        },
        "id": "MD0rLym1pvG-",
        "outputId": "5c80aaac-c51d-437b-d73c-46f2fcf18e5c"
      },
      "outputs": [
        {
          "output_type": "execute_result",
          "data": {
            "text/plain": [
              "<PrefetchDataset element_spec=(TensorSpec(shape=(None,), dtype=tf.string, name=None), TensorSpec(shape=(None, 5), dtype=tf.float64, name=None))>"
            ]
          },
          "metadata": {},
          "execution_count": 41
        }
      ],
      "source": [
        "#take tensor slice datasets and turn them into prefetch datasets\n",
        "train_dataset = train_dataset.batch(32).prefetch(tf.data.AUTOTUNE)\n",
        "valid_dataset = valid_dataset.batch(32).prefetch(tf.data.AUTOTUNE)\n",
        "test_dataset = test_dataset.batch(32).prefetch(tf.data.AUTOTUNE)\n",
        "train_dataset"
      ]
    },
    {
      "cell_type": "code",
      "execution_count": 42,
      "metadata": {
        "colab": {
          "base_uri": "https://localhost:8080/"
        },
        "id": "5v0yo0jayzcO",
        "outputId": "f839c4a9-bb8b-4b3d-9b3c-9b04a846de94"
      },
      "outputs": [
        {
          "output_type": "execute_result",
          "data": {
            "text/plain": [
              "((180040, 5), array([0., 0., 0., 1., 0.]))"
            ]
          },
          "metadata": {},
          "execution_count": 42
        }
      ],
      "source": [
        "train_labels_one_hot.shape,train_labels_one_hot[0]"
      ]
    },
    {
      "cell_type": "markdown",
      "metadata": {
        "id": "PIIr75qCqfwB"
      },
      "source": [
        "#Model1:Conv 1D with token embeddings"
      ]
    },
    {
      "cell_type": "code",
      "execution_count": 43,
      "metadata": {
        "id": "ygX79GjbrfaX"
      },
      "outputs": [],
      "source": [
        "#create 1d conv layer\n",
        "input = layers.Input(shape = (1,), dtype= tf.string)\n",
        "text_vector = text_vectorizer(input)\n",
        "token_embeddings = token_embed(text_vector)\n",
        "x = layers.Conv1D(64,kernel_size=  5,padding = \"same\", activation = \"relu\")(token_embeddings)\n",
        "x = layers.GlobalAveragePooling1D()(x)\n",
        "outputs = layers.Dense(num_classes,activation = \"softmax\")(x)\n",
        "model_1 = tf.keras.Model(input,outputs,name = \"model_1\")"
      ]
    },
    {
      "cell_type": "code",
      "execution_count": 44,
      "metadata": {
        "colab": {
          "base_uri": "https://localhost:8080/"
        },
        "id": "AVI7VeiDsgq1",
        "outputId": "ed366d67-1f37-462a-89e3-22d72b8cd1f1"
      },
      "outputs": [
        {
          "output_type": "stream",
          "name": "stdout",
          "text": [
            "Model: \"model_1\"\n",
            "_________________________________________________________________\n",
            " Layer (type)                Output Shape              Param #   \n",
            "=================================================================\n",
            " input_1 (InputLayer)        [(None, 1)]               0         \n",
            "                                                                 \n",
            " text_vectorization (TextVec  (None, 55)               0         \n",
            " torization)                                                     \n",
            "                                                                 \n",
            " token_embedding (Embedding)  (None, 55, 128)          8299648   \n",
            "                                                                 \n",
            " conv1d (Conv1D)             (None, 55, 64)            41024     \n",
            "                                                                 \n",
            " global_average_pooling1d (G  (None, 64)               0         \n",
            " lobalAveragePooling1D)                                          \n",
            "                                                                 \n",
            " dense (Dense)               (None, 5)                 325       \n",
            "                                                                 \n",
            "=================================================================\n",
            "Total params: 8,340,997\n",
            "Trainable params: 8,340,997\n",
            "Non-trainable params: 0\n",
            "_________________________________________________________________\n"
          ]
        }
      ],
      "source": [
        "model_1.compile(loss = \"categorical_crossentropy\", optimizer = tf.keras.optimizers.Adam(), metrics = [\"accuracy\"])\n",
        "model_1.summary()"
      ]
    },
    {
      "cell_type": "code",
      "execution_count": 45,
      "metadata": {
        "colab": {
          "base_uri": "https://localhost:8080/"
        },
        "id": "Z34j2LoHxKtp",
        "outputId": "b80d9319-4442-4fc0-8bed-dcb10fe65b31"
      },
      "outputs": [
        {
          "output_type": "execute_result",
          "data": {
            "text/plain": [
              "<PrefetchDataset element_spec=(TensorSpec(shape=(None,), dtype=tf.string, name=None), TensorSpec(shape=(None, 5), dtype=tf.float64, name=None))>"
            ]
          },
          "metadata": {},
          "execution_count": 45
        }
      ],
      "source": [
        "train_dataset"
      ]
    },
    {
      "cell_type": "code",
      "execution_count": 46,
      "metadata": {
        "colab": {
          "base_uri": "https://localhost:8080/"
        },
        "id": "b-RAf_veuQCl",
        "outputId": "63f3efab-78b6-40fc-e002-7a96c3185296"
      },
      "outputs": [
        {
          "output_type": "execute_result",
          "data": {
            "text/plain": [
              "5627"
            ]
          },
          "metadata": {},
          "execution_count": 46
        }
      ],
      "source": [
        "len(train_dataset)"
      ]
    },
    {
      "cell_type": "code",
      "execution_count": 47,
      "metadata": {
        "colab": {
          "base_uri": "https://localhost:8080/"
        },
        "id": "eA19fUvztBAy",
        "outputId": "f2b8445d-d9bf-44b3-b03a-5bef45248dfd"
      },
      "outputs": [
        {
          "output_type": "stream",
          "name": "stdout",
          "text": [
            "Epoch 1/3\n",
            "562/562 [==============================] - 15s 12ms/step - loss: 0.9254 - accuracy: 0.6335 - val_loss: 0.6937 - val_accuracy: 0.7380\n",
            "Epoch 2/3\n",
            "562/562 [==============================] - 8s 14ms/step - loss: 0.6616 - accuracy: 0.7582 - val_loss: 0.6377 - val_accuracy: 0.7693\n",
            "Epoch 3/3\n",
            "562/562 [==============================] - 7s 13ms/step - loss: 0.6203 - accuracy: 0.7751 - val_loss: 0.5965 - val_accuracy: 0.7859\n"
          ]
        }
      ],
      "source": [
        "history_model1 = model_1.fit(train_dataset,steps_per_epoch = int(0.1*len(train_dataset)),epochs = 3, validation_data = valid_dataset, validation_steps = int(0.1*len(valid_dataset)))"
      ]
    },
    {
      "cell_type": "code",
      "execution_count": 48,
      "metadata": {
        "colab": {
          "base_uri": "https://localhost:8080/"
        },
        "id": "Ud-RgUbgt4Fp",
        "outputId": "fefda874-73bb-40ec-aa81-522003acc93e"
      },
      "outputs": [
        {
          "output_type": "stream",
          "name": "stdout",
          "text": [
            "945/945 [==============================] - 3s 3ms/step - loss: 0.5990 - accuracy: 0.7854\n"
          ]
        },
        {
          "output_type": "execute_result",
          "data": {
            "text/plain": [
              "[0.5990362763404846, 0.7853832840919495]"
            ]
          },
          "metadata": {},
          "execution_count": 48
        }
      ],
      "source": [
        "model_1.evaluate(valid_dataset)"
      ]
    },
    {
      "cell_type": "code",
      "execution_count": 49,
      "metadata": {
        "colab": {
          "base_uri": "https://localhost:8080/"
        },
        "id": "7XETwOIg0miS",
        "outputId": "4ad46455-7a14-4f00-f56d-b914400d2d33"
      },
      "outputs": [
        {
          "output_type": "stream",
          "name": "stdout",
          "text": [
            "945/945 [==============================] - 2s 2ms/step\n"
          ]
        },
        {
          "output_type": "execute_result",
          "data": {
            "text/plain": [
              "array([[4.4634566e-01, 1.7954682e-01, 8.5422732e-02, 2.6230022e-01,\n",
              "        2.6384551e-02],\n",
              "       [3.7868649e-01, 3.3337274e-01, 1.3263540e-02, 2.6527181e-01,\n",
              "        9.4054639e-03],\n",
              "       [1.2124491e-01, 1.0030658e-02, 1.3353730e-03, 8.6736780e-01,\n",
              "        2.1213982e-05],\n",
              "       ...,\n",
              "       [5.3377757e-06, 1.0678297e-03, 5.4402521e-04, 1.9985168e-06,\n",
              "        9.9838078e-01],\n",
              "       [5.1737495e-02, 4.7262084e-01, 8.4894277e-02, 6.1423257e-02,\n",
              "        3.2932419e-01],\n",
              "       [2.1271020e-01, 6.1617255e-01, 3.8115054e-02, 5.8877390e-02,\n",
              "        7.4124798e-02]], dtype=float32)"
            ]
          },
          "metadata": {},
          "execution_count": 49
        }
      ],
      "source": [
        "model1_pred_probs = model_1.predict(valid_dataset)\n",
        "model1_pred_probs"
      ]
    },
    {
      "cell_type": "code",
      "execution_count": 50,
      "metadata": {
        "id": "B9NATb7T1Ftt"
      },
      "outputs": [],
      "source": [
        "model1_preds = tf.argmax(model1_pred_probs, axis = 1)\n"
      ]
    },
    {
      "cell_type": "code",
      "execution_count": 51,
      "metadata": {
        "colab": {
          "base_uri": "https://localhost:8080/"
        },
        "id": "dF9cshXM1ikj",
        "outputId": "0e53917a-d031-4da5-8b2d-8c3cebaf85f0"
      },
      "outputs": [
        {
          "output_type": "execute_result",
          "data": {
            "text/plain": [
              "{'accuracy': 0.7853832914073878,\n",
              " 'precision': 0.7822622690812122,\n",
              " 'recall': 0.7853832914073878,\n",
              " 'f1_score': 0.7829048712091413}"
            ]
          },
          "metadata": {},
          "execution_count": 51
        }
      ],
      "source": [
        "model1_results = calculate_results(val_labels_encoded, model1_preds)\n",
        "model1_results"
      ]
    },
    {
      "cell_type": "markdown",
      "metadata": {
        "id": "lgYm9RNH13F0"
      },
      "source": [
        "Preparing  a pretrained embedding layer from tensorflow hub"
      ]
    },
    {
      "cell_type": "markdown",
      "metadata": {
        "id": "3v2So1qX3seU"
      },
      "source": [
        "#Model 2:Feature extraction with pretrained embeddings"
      ]
    },
    {
      "cell_type": "code",
      "execution_count": 52,
      "metadata": {
        "id": "nS4SjRAW2Uzo"
      },
      "outputs": [],
      "source": [
        "import tensorflow_hub as hub\n",
        "tf_hub_embedding_layer = hub.KerasLayer(\"https://tfhub.dev/google/universal-sentence-encoder/4\", trainable = False, name = \"Universal_sentence_encoder\")"
      ]
    },
    {
      "cell_type": "code",
      "execution_count": 53,
      "metadata": {
        "colab": {
          "base_uri": "https://localhost:8080/"
        },
        "id": "mXZI4Jdb4yXk",
        "outputId": "3b26c350-25fb-46a5-9d48-e98858b7eaca"
      },
      "outputs": [
        {
          "output_type": "stream",
          "name": "stdout",
          "text": [
            "Random sentence:\n",
            "all subjects received basiliximab induction , mycophenolate mofetil , and corticosteroids .\n",
            "\n",
            "Embedded sentence:\n",
            "[[-9.26618278e-03 -4.48685922e-02  6.63360730e-02  4.94485023e-03\n",
            "  -3.72484550e-02  4.11450602e-02  6.20467365e-02 -5.54045960e-02\n",
            "  -7.12100118e-02 -3.27083245e-02  4.71995883e-02  2.80401949e-02\n",
            "  -2.76433770e-02  4.95103411e-02  1.62415542e-02 -6.54884577e-02\n",
            "  -5.93348257e-02  7.74859264e-02 -4.60776910e-02 -5.00989370e-02\n",
            "   4.06422216e-04  7.13756755e-02 -7.72805661e-02  7.66551718e-02\n",
            "   1.66177619e-02  2.14719288e-02  2.72379015e-02 -9.09717083e-02\n",
            "   7.87367020e-03  3.67587917e-02  4.86206040e-02  7.18642622e-02\n",
            "   2.83332039e-02 -3.40813994e-02  1.82126078e-03  2.50856820e-02\n",
            "  -7.73748383e-02 -7.12941289e-02  2.65297340e-03  4.02128473e-02\n",
            "   6.41856417e-02 -2.69488455e-03  8.09647962e-02  5.89558184e-02\n",
            "   5.33980355e-02  7.30993524e-02 -1.17509523e-02  1.86520778e-02\n",
            "  -3.82578298e-02  1.64135229e-02 -3.84442694e-02  1.96756162e-02\n",
            "  -5.84438369e-02 -4.52213772e-02  7.69699365e-02 -4.48466353e-02\n",
            "  -2.65374109e-02 -6.59415945e-02  7.35496804e-02 -2.52490826e-02\n",
            "  -6.94392342e-03  2.55619660e-02 -3.27225365e-02  2.67115235e-02\n",
            "  -5.19456193e-02 -3.82091440e-02  7.99740627e-02 -4.68582474e-02\n",
            "  -1.37906382e-02  2.09942926e-02  6.99484870e-02 -4.48824698e-03\n",
            "  -1.11225024e-02  5.84868751e-02 -6.43953979e-02 -5.78525029e-02\n",
            "   2.61214189e-02 -1.96044836e-02 -1.64311938e-02  4.00057361e-02\n",
            "  -6.75820857e-02  3.98993213e-03  5.80764897e-02 -7.09326118e-02\n",
            "   2.29975581e-02  6.12317026e-02  7.02987472e-03  4.52427603e-02\n",
            "  -5.14436923e-02 -1.92632880e-02 -6.77759647e-02  6.05157092e-02\n",
            "  -1.04742125e-02  4.48180325e-02 -3.29668671e-02  7.13370219e-02\n",
            "   4.27263416e-02 -2.84688324e-02  6.24121213e-03 -1.14270588e-02\n",
            "   6.55829161e-02  5.40179051e-02  9.61096399e-03  5.89576438e-02\n",
            "   7.82818720e-02 -5.39973080e-02 -1.52126122e-02  4.08465788e-02\n",
            "   4.16148603e-02  9.96029098e-03  6.17939346e-02 -3.59812938e-02\n",
            "  -1.36248358e-02  6.71998486e-02  1.06785363e-02 -9.37895197e-03\n",
            "  -2.05334425e-02 -6.89469799e-02  2.77015865e-02  6.28036037e-02\n",
            "  -5.40596060e-02  4.42469306e-02  3.42831872e-02  1.95599198e-02\n",
            "   3.58153619e-02 -4.22846824e-02 -7.23880008e-02  1.89851373e-02\n",
            "   2.33848020e-02 -3.33064720e-02 -2.53061820e-02  7.43014589e-02\n",
            "   3.96571234e-02  2.81008109e-02  1.00707803e-02 -1.64483115e-02\n",
            "   3.56002897e-02  4.06728908e-02  7.54172727e-02  7.58134946e-02\n",
            "   4.38086502e-02  3.25873420e-02 -2.23481376e-02 -2.95521761e-03\n",
            "   5.67345284e-02 -2.63206158e-02 -1.59001388e-02 -6.94562718e-02\n",
            "  -7.89244752e-03  4.05532904e-02  2.31048260e-02  2.70327600e-03\n",
            "  -1.16348332e-02 -3.03484183e-02  6.38349950e-02  6.78249523e-02\n",
            "  -4.05879766e-02 -5.39430343e-02  3.14879790e-02 -3.36106755e-02\n",
            "   3.40419933e-02  3.99178900e-02  1.62916090e-02 -2.95187086e-02\n",
            "   1.28338514e-02 -3.37288380e-02 -7.41285980e-02 -7.09094927e-02\n",
            "   6.49725050e-02  5.87746687e-03 -6.74055070e-02  1.07108224e-02\n",
            "  -4.77252081e-02 -4.75991843e-03  4.08881009e-02  1.14369579e-02\n",
            "  -8.22495446e-02  3.88939641e-02  2.84189712e-02 -2.28584334e-02\n",
            "  -6.48764521e-03 -1.58416443e-02  5.12899086e-03 -1.03903329e-02\n",
            "  -1.72888171e-02 -1.45447664e-02  4.64499742e-02  2.90964656e-02\n",
            "  -1.17494464e-02 -2.39780713e-02  6.06127530e-02  3.59798707e-02\n",
            "   1.63368974e-02  3.22816893e-02 -1.63683333e-02  7.33692199e-02\n",
            "   2.72672065e-02 -1.47199417e-02  3.70012186e-02 -4.68528606e-02\n",
            "   2.45300983e-03 -5.43244369e-03 -1.75996323e-03  4.24829125e-02\n",
            "  -1.00459056e-02 -5.07369861e-02  6.14407808e-02  7.37502202e-02\n",
            "   6.53653685e-03  2.83598360e-02  6.87027499e-02  8.67506862e-02\n",
            "  -8.55513066e-02 -5.76282255e-02 -1.03024114e-02 -1.88915413e-02\n",
            "   6.30712584e-02  4.78710011e-02  3.02552693e-02 -1.94327813e-02\n",
            "   7.97449786e-04  5.21063693e-02 -2.93241199e-02  5.81167676e-02\n",
            "   3.90532576e-02 -2.49440502e-02  1.24517996e-02  3.08409091e-02\n",
            "  -4.29922752e-02  4.27844822e-02  1.15086436e-02  4.01670039e-02\n",
            "   7.10503682e-02  3.31831574e-02  9.14129019e-02 -5.63804433e-02\n",
            "   5.72027685e-03  8.00732896e-03  4.26841341e-02 -4.09740843e-02\n",
            "   4.23079021e-02 -3.99831384e-02  4.55272086e-02  5.86597212e-02\n",
            "   6.31989688e-02 -1.07158106e-02 -1.69192590e-02 -3.58299166e-02\n",
            "   3.68025713e-02  3.15883607e-02 -4.56661358e-03 -3.17516327e-02\n",
            "   5.95691800e-02 -4.09906358e-02 -1.99013501e-02  4.36356813e-02\n",
            "   3.49769257e-02 -7.53079653e-02 -1.76793970e-02 -4.85583534e-03\n",
            "  -4.45138961e-02 -7.17606992e-02 -7.12787434e-02 -3.20792645e-02\n",
            "  -2.01596115e-02 -4.14430909e-02 -6.97622299e-02  5.95801026e-02\n",
            "   5.45341969e-02  7.00190142e-02 -6.19257465e-02 -3.51925963e-03\n",
            "   7.00171292e-03  4.00821958e-03 -3.15144993e-02  4.48662750e-02\n",
            "  -1.75051950e-02  6.75375313e-02 -9.92779993e-03  7.54417852e-02\n",
            "   1.31997010e-02  1.19715398e-02  4.17733490e-02 -7.93393254e-02\n",
            "   1.47348549e-02  1.32673443e-03 -2.76748016e-02 -1.22770360e-02\n",
            "   6.47851825e-02  9.12745856e-03  7.53886923e-02 -7.33690634e-02\n",
            "  -1.27070080e-02 -4.67023849e-02 -6.69925064e-02  1.56022692e-02\n",
            "   2.58060619e-02 -2.57844552e-02 -6.11991361e-02  2.34497227e-02\n",
            "   3.32123004e-02 -3.19518894e-02 -5.57644945e-03  2.19816156e-02\n",
            "  -4.69961725e-02 -6.23078831e-03 -7.51494542e-02  5.38096130e-02\n",
            "  -7.74829322e-03  4.66655530e-02 -7.72911939e-04  4.87741642e-02\n",
            "  -5.47603257e-02 -5.61615862e-02  1.66848302e-02  3.02939080e-02\n",
            "  -1.15651656e-02  7.68800229e-02  2.45314371e-02 -3.92814614e-02\n",
            "   1.46608809e-02  3.38896960e-02  5.31315617e-02 -1.40209189e-02\n",
            "  -5.29003702e-02  2.43494380e-03 -4.94327070e-03 -6.94247484e-02\n",
            "   1.91328954e-02  5.75817041e-02  5.58548421e-03 -4.05595191e-02\n",
            "   3.08191888e-02 -4.31340598e-02  4.15881239e-02 -1.62136815e-02\n",
            "  -5.51810414e-02  4.73833419e-02 -7.24903439e-05  2.49647498e-02\n",
            "  -2.42955554e-02  2.41085645e-02  7.54444301e-02 -1.59238074e-02\n",
            "  -7.45896474e-02  8.53527896e-03 -9.31008533e-03 -4.94328886e-02\n",
            "   1.29996063e-02 -3.76372226e-02 -8.40345398e-02  3.94565286e-04\n",
            "  -4.94496115e-02  5.47120683e-02  5.52997142e-02 -6.50303811e-02\n",
            "  -6.94267899e-02 -1.30132558e-02 -4.33342851e-04  1.08945379e-02\n",
            "   9.20083374e-02 -3.95143293e-02 -8.73845518e-02 -5.77143133e-02\n",
            "   5.07006943e-02  3.75374369e-02 -1.71312355e-02  8.29801336e-02\n",
            "  -5.77824935e-02 -4.76523414e-02  6.96825758e-02 -6.93506747e-02\n",
            "   2.08482984e-02  1.34219006e-02  2.41465084e-02 -6.73305467e-02\n",
            "  -3.58994417e-02  4.78146300e-02  8.43473431e-03 -5.25906347e-02\n",
            "   2.83432566e-02  7.76998838e-03 -4.07715254e-02  7.22797289e-02\n",
            "   2.24370323e-02  4.59680110e-02  2.39390042e-02  1.19282585e-02\n",
            "   2.80992147e-02 -1.94744188e-02  5.35134710e-02 -8.20011199e-02\n",
            "  -1.60161965e-02  5.86436205e-02 -1.62799973e-02 -3.32805002e-03\n",
            "   4.27549593e-02 -1.27993105e-02 -1.16455806e-02 -8.50482360e-02\n",
            "   4.17929702e-02 -3.85761000e-02  2.53573060e-02  5.39062836e-04\n",
            "   3.17611992e-02  3.10606472e-02  3.96305248e-02 -8.36025700e-02\n",
            "  -3.36015187e-02 -5.35974884e-03 -5.20864353e-02  3.40257538e-03\n",
            "  -3.58419344e-02  7.67726973e-02  3.77917849e-02  2.01822892e-02\n",
            "   5.25934324e-02 -1.76088046e-02  6.33055344e-02 -5.19177467e-02\n",
            "   2.33643129e-02 -3.92682012e-03 -8.27041804e-04  3.30815613e-02\n",
            "   3.96971703e-02 -5.31365573e-02 -1.16024613e-02 -3.11304536e-02\n",
            "  -4.63232845e-02 -2.27804016e-02 -2.37393491e-02  2.74131130e-02\n",
            "   3.92670650e-03 -3.70744467e-02  4.85779159e-02 -1.95033476e-02\n",
            "   2.40020901e-02  2.70085018e-02 -3.56855169e-02 -7.30588436e-02\n",
            "   2.06506904e-02  4.54883911e-02  2.82351598e-02 -2.27879151e-03\n",
            "  -4.29025665e-02 -1.50876455e-02 -6.57518804e-02 -3.01796943e-02\n",
            "   3.28549072e-02  3.01339608e-02  6.17451817e-02 -3.49489786e-02\n",
            "  -6.41840026e-02  4.34685685e-02 -3.76475304e-02 -5.53885810e-02\n",
            "  -1.63305346e-02 -2.69748122e-02  4.92676497e-02  2.15963647e-02\n",
            "  -6.23109192e-02  8.58478546e-02  7.31228739e-02 -8.87368992e-03\n",
            "   2.74089035e-02  4.28173840e-02 -5.00408653e-03 -2.08669994e-02\n",
            "  -4.33310010e-02 -7.93798390e-05 -7.12813213e-02 -1.86857451e-02\n",
            "  -4.81309630e-02  4.25722748e-02  3.25091369e-02 -1.33071793e-02\n",
            "  -6.56064972e-02 -9.68953408e-03 -6.00681305e-02 -2.13946272e-02\n",
            "   5.61924838e-02 -2.74186302e-02 -6.24841191e-02  2.92344578e-02\n",
            "   1.73534155e-02 -4.92040254e-02  1.05023729e-02 -6.56886473e-02\n",
            "  -1.18211079e-02  5.34797460e-02 -4.78684939e-02  3.42787579e-02\n",
            "   7.43463337e-02  5.46202734e-02  1.74996946e-02 -2.38554180e-02\n",
            "  -2.48886198e-02 -2.28155907e-02  4.00160626e-02  1.08842468e-02\n",
            "  -8.44748691e-02 -6.93006488e-03 -1.40235405e-02  6.18936233e-02\n",
            "   4.88457195e-02 -8.53062496e-02 -2.76309066e-02 -5.29703349e-02\n",
            "   5.04385196e-02 -6.71908557e-02 -1.63257718e-02 -2.11087950e-02]]\n"
          ]
        }
      ],
      "source": [
        "random_train_sentence = random.choice(train_sentences)\n",
        "embedded_sentence = tf_hub_embedding_layer([random_train_sentence])\n",
        "print(f\"Random sentence:\\n{random_train_sentence}\\n\")\n",
        "print(f\"Embedded sentence:\\n{embedded_sentence}\")"
      ]
    },
    {
      "cell_type": "code",
      "execution_count": 54,
      "metadata": {
        "id": "l4LDW-xo5Ryg"
      },
      "outputs": [],
      "source": [
        "inputs = layers.Input(shape = [],dtype = tf.string)\n",
        "pretrained_embedding = tf_hub_embedding_layer(inputs)\n",
        "x = layers.Dense(128, activation = \"relu\")(pretrained_embedding)\n",
        "#we can add more layers if we wanted to\n",
        "outputs = layers.Dense(5, activation = \"softmax\")(x)\n",
        "model_2 = tf.keras.Model(inputs,outputs,name = \"model2_use_feature_extractor\") "
      ]
    },
    {
      "cell_type": "code",
      "execution_count": 55,
      "metadata": {
        "id": "wh5hC1VSFfEB"
      },
      "outputs": [],
      "source": [
        "model_2.compile(loss = \"categorical_crossentropy\", optimizer = tf.keras.optimizers.Adam(), metrics = [\"accuracy\"])\n"
      ]
    },
    {
      "cell_type": "code",
      "execution_count": 56,
      "metadata": {
        "colab": {
          "base_uri": "https://localhost:8080/"
        },
        "id": "8hgETv6BGWzI",
        "outputId": "38556ed6-7746-44a3-b8ee-803a5d588e61"
      },
      "outputs": [
        {
          "output_type": "execute_result",
          "data": {
            "text/plain": [
              "5627"
            ]
          },
          "metadata": {},
          "execution_count": 56
        }
      ],
      "source": [
        "len(train_dataset)"
      ]
    },
    {
      "cell_type": "code",
      "execution_count": 57,
      "metadata": {
        "colab": {
          "base_uri": "https://localhost:8080/"
        },
        "id": "fLkexffkF1wj",
        "outputId": "90fab02c-221d-4bde-acd3-032102d7853a"
      },
      "outputs": [
        {
          "output_type": "stream",
          "name": "stdout",
          "text": [
            "Epoch 1/3\n",
            "562/562 [==============================] - 10s 13ms/step - loss: 0.9166 - accuracy: 0.6537 - val_loss: 0.7963 - val_accuracy: 0.6888\n",
            "Epoch 2/3\n",
            "562/562 [==============================] - 7s 12ms/step - loss: 0.7683 - accuracy: 0.7026 - val_loss: 0.7525 - val_accuracy: 0.7041\n",
            "Epoch 3/3\n",
            "562/562 [==============================] - 7s 13ms/step - loss: 0.7506 - accuracy: 0.7129 - val_loss: 0.7363 - val_accuracy: 0.7144\n"
          ]
        }
      ],
      "source": [
        "#fit model_2 to the data\n",
        "hitory_model2 = model_2.fit(train_dataset,epochs = 3, steps_per_epoch = (int)(0.1*len(train_dataset)), validation_data = valid_dataset, validation_steps = (int)(0.1*len(valid_dataset)))\n"
      ]
    },
    {
      "cell_type": "code",
      "execution_count": 58,
      "metadata": {
        "colab": {
          "base_uri": "https://localhost:8080/"
        },
        "id": "xzy-X7wEGTlx",
        "outputId": "57b56af0-852d-47f1-ca89-b424433d0f28"
      },
      "outputs": [
        {
          "output_type": "stream",
          "name": "stdout",
          "text": [
            "945/945 [==============================] - 12s 12ms/step - loss: 0.7392 - accuracy: 0.7152\n"
          ]
        },
        {
          "output_type": "execute_result",
          "data": {
            "text/plain": [
              "[0.7392075061798096, 0.7152456045150757]"
            ]
          },
          "metadata": {},
          "execution_count": 58
        }
      ],
      "source": [
        "#evaluate on the whole validation dataset\n",
        "model_2.evaluate(valid_dataset)"
      ]
    },
    {
      "cell_type": "code",
      "execution_count": 59,
      "metadata": {
        "colab": {
          "base_uri": "https://localhost:8080/"
        },
        "id": "0ynYGwA6HCZw",
        "outputId": "60fd5abf-9d0a-47ee-8103-513668d03f9b"
      },
      "outputs": [
        {
          "output_type": "stream",
          "name": "stdout",
          "text": [
            "945/945 [==============================] - 10s 10ms/step\n"
          ]
        },
        {
          "output_type": "execute_result",
          "data": {
            "text/plain": [
              "array([[0.44465327, 0.34271535, 0.0026224 , 0.20308578, 0.00692319],\n",
              "       [0.33789724, 0.5332252 , 0.00384379, 0.1229249 , 0.00210892],\n",
              "       [0.2208321 , 0.13493186, 0.01566574, 0.58860475, 0.0399655 ],\n",
              "       ...,\n",
              "       [0.00207226, 0.00656394, 0.0484589 , 0.00095035, 0.9419545 ],\n",
              "       [0.00436296, 0.05512889, 0.18147811, 0.00180248, 0.7572276 ],\n",
              "       [0.16238837, 0.26937217, 0.48780704, 0.01261266, 0.06781966]],\n",
              "      dtype=float32)"
            ]
          },
          "metadata": {},
          "execution_count": 59
        }
      ],
      "source": [
        "model2_pred_probs = model_2.predict(valid_dataset)\n",
        "model2_pred_probs"
      ]
    },
    {
      "cell_type": "code",
      "execution_count": 60,
      "metadata": {
        "colab": {
          "base_uri": "https://localhost:8080/"
        },
        "id": "MYEJ8dx6HO9x",
        "outputId": "8919f6d5-618c-4662-fc33-68c61615e742"
      },
      "outputs": [
        {
          "output_type": "execute_result",
          "data": {
            "text/plain": [
              "<tf.Tensor: shape=(30212,), dtype=int64, numpy=array([0, 1, 3, ..., 4, 4, 2])>"
            ]
          },
          "metadata": {},
          "execution_count": 60
        }
      ],
      "source": [
        "model2_preds = tf.argmax(model2_pred_probs, axis = 1)\n",
        "model2_preds"
      ]
    },
    {
      "cell_type": "code",
      "execution_count": 61,
      "metadata": {
        "id": "PCrmMshhHiM-"
      },
      "outputs": [],
      "source": [
        "model2_results = calculate_results(val_labels_encoded, model2_preds)"
      ]
    },
    {
      "cell_type": "code",
      "execution_count": 62,
      "metadata": {
        "colab": {
          "base_uri": "https://localhost:8080/"
        },
        "id": "DZsn3VucHsYG",
        "outputId": "0af24b7a-0086-4053-c30c-38f78dcd14b7"
      },
      "outputs": [
        {
          "output_type": "execute_result",
          "data": {
            "text/plain": [
              "{'accuracy': 0.7152455977757183,\n",
              " 'precision': 0.715266039209175,\n",
              " 'recall': 0.7152455977757183,\n",
              " 'f1_score': 0.7121199229343896}"
            ]
          },
          "metadata": {},
          "execution_count": 62
        }
      ],
      "source": [
        "model2_results"
      ]
    },
    {
      "cell_type": "markdown",
      "metadata": {
        "id": "POSYCvoGHuTM"
      },
      "source": [
        "#Creating a chracter level tokenizer with Tensorflow text vectorization layer"
      ]
    },
    {
      "cell_type": "code",
      "execution_count": 63,
      "metadata": {
        "id": "V4boDoE4Hyjb"
      },
      "outputs": [],
      "source": [
        "#We need to format our data at the character level\n",
        "def split_chars(text):\n",
        "  return \" \".join(list(text))"
      ]
    },
    {
      "cell_type": "code",
      "execution_count": 64,
      "metadata": {
        "colab": {
          "base_uri": "https://localhost:8080/",
          "height": 88
        },
        "id": "CZ4_1_TLIszs",
        "outputId": "45d1add2-dee8-4187-e326-9345a000f1d4"
      },
      "outputs": [
        {
          "output_type": "execute_result",
          "data": {
            "text/plain": [
              "'t o   i n v e s t i g a t e   t h e   e f f i c a c y   o f   @   w e e k s   o f   d a i l y   l o w - d o s e   o r a l   p r e d n i s o l o n e   i n   i m p r o v i n g   p a i n   ,   m o b i l i t y   ,   a n d   s y s t e m i c   l o w - g r a d e   i n f l a m m a t i o n   i n   t h e   s h o r t   t e r m   a n d   w h e t h e r   t h e   e f f e c t   w o u l d   b e   s u s t a i n e d   a t   @   w e e k s   i n   o l d e r   a d u l t s   w i t h   m o d e r a t e   t o   s e v e r e   k n e e   o s t e o a r t h r i t i s   (   o a   )   .'"
            ],
            "application/vnd.google.colaboratory.intrinsic+json": {
              "type": "string"
            }
          },
          "metadata": {},
          "execution_count": 64
        }
      ],
      "source": [
        "split_chars(train_sentences[0])"
      ]
    },
    {
      "cell_type": "code",
      "execution_count": 65,
      "metadata": {
        "colab": {
          "base_uri": "https://localhost:8080/"
        },
        "id": "cHhJ7y0QJKtt",
        "outputId": "af453750-518b-49de-cc98-ecf63a270b52"
      },
      "outputs": [
        {
          "output_type": "execute_result",
          "data": {
            "text/plain": [
              "['t o   i n v e s t i g a t e   t h e   e f f i c a c y   o f   @   w e e k s   o f   d a i l y   l o w - d o s e   o r a l   p r e d n i s o l o n e   i n   i m p r o v i n g   p a i n   ,   m o b i l i t y   ,   a n d   s y s t e m i c   l o w - g r a d e   i n f l a m m a t i o n   i n   t h e   s h o r t   t e r m   a n d   w h e t h e r   t h e   e f f e c t   w o u l d   b e   s u s t a i n e d   a t   @   w e e k s   i n   o l d e r   a d u l t s   w i t h   m o d e r a t e   t o   s e v e r e   k n e e   o s t e o a r t h r i t i s   (   o a   )   .',\n",
              " 'a   t o t a l   o f   @   p a t i e n t s   w i t h   p r i m a r y   k n e e   o a   w e r e   r a n d o m i z e d   @ : @   ;   @   r e c e i v e d   @   m g / d a y   o f   p r e d n i s o l o n e   a n d   @   r e c e i v e d   p l a c e b o   f o r   @   w e e k s   .',\n",
              " 'o u t c o m e   m e a s u r e s   i n c l u d e d   p a i n   r e d u c t i o n   a n d   i m p r o v e m e n t   i n   f u n c t i o n   s c o r e s   a n d   s y s t e m i c   i n f l a m m a t i o n   m a r k e r s   .',\n",
              " 'p a i n   w a s   a s s e s s e d   u s i n g   t h e   v i s u a l   a n a l o g   p a i n   s c a l e   (   @ - @   m m   )   .',\n",
              " 's e c o n d a r y   o u t c o m e   m e a s u r e s   i n c l u d e d   t h e   w e s t e r n   o n t a r i o   a n d   m c m a s t e r   u n i v e r s i t i e s   o s t e o a r t h r i t i s   i n d e x   s c o r e s   ,   p a t i e n t   g l o b a l   a s s e s s m e n t   (   p g a   )   o f   t h e   s e v e r i t y   o f   k n e e   o a   ,   a n d   @ - m i n   w a l k   d i s t a n c e   (   @ m w d   )   .']"
            ]
          },
          "metadata": {},
          "execution_count": 65
        }
      ],
      "source": [
        "#Split sequence level data splits to character level data splits\n",
        "train_chars = [split_chars(sentence) for sentence in train_sentences]\n",
        "val_chars = [split_chars(sentence) for sentence in val_sentences]\n",
        "test_chars = [split_chars(sentence) for sentence in test_sentences]\n",
        "train_chars[:5]"
      ]
    },
    {
      "cell_type": "code",
      "execution_count": 66,
      "metadata": {
        "colab": {
          "base_uri": "https://localhost:8080/"
        },
        "id": "WYrsDwyRJhD4",
        "outputId": "e0ca10f8-c1d8-46f2-bad9-aa276309d269"
      },
      "outputs": [
        {
          "output_type": "execute_result",
          "data": {
            "text/plain": [
              "149.3662574983337"
            ]
          },
          "metadata": {},
          "execution_count": 66
        }
      ],
      "source": [
        "char_len = [len(sentences) for sentences in train_sentences]\n",
        "mean_char_len = np.mean(char_len)\n",
        "mean_char_len"
      ]
    },
    {
      "cell_type": "code",
      "execution_count": 67,
      "metadata": {
        "colab": {
          "base_uri": "https://localhost:8080/",
          "height": 265
        },
        "id": "l93KlbqzKI45",
        "outputId": "329c2bff-0fa4-4ddd-96f1-d7603b137ac7"
      },
      "outputs": [
        {
          "output_type": "display_data",
          "data": {
            "text/plain": [
              "<Figure size 432x288 with 1 Axes>"
            ],
            "image/png": "[encoded data removed]"
          },
          "metadata": {
            "needs_background": "light"
          }
        }
      ],
      "source": [
        "import matplotlib.pyplot as plt\n",
        "plt.hist(char_len, bins = 7);"
      ]
    },
    {
      "cell_type": "code",
      "execution_count": 68,
      "metadata": {
        "colab": {
          "base_uri": "https://localhost:8080/"
        },
        "id": "AB0_WJTCKTaO",
        "outputId": "5a0bca62-a9f7-4948-e99c-5048316e2b4b"
      },
      "outputs": [
        {
          "output_type": "execute_result",
          "data": {
            "text/plain": [
              "290"
            ]
          },
          "metadata": {},
          "execution_count": 68
        }
      ],
      "source": [
        "#Find what charcater length covers 95 percent of sequences\n",
        "output_seq_char_len = int(np.percentile(char_len,95))\n",
        "output_seq_char_len"
      ]
    },
    {
      "cell_type": "code",
      "execution_count": 69,
      "metadata": {
        "colab": {
          "base_uri": "https://localhost:8080/",
          "height": 36
        },
        "id": "FRV_DLWpKlZK",
        "outputId": "e4e62a91-2cd0-4ba5-dc29-fa2f00e8019b"
      },
      "outputs": [
        {
          "output_type": "execute_result",
          "data": {
            "text/plain": [
              "'abcdefghijklmnopqrstuvwxyz0123456789!\"#$%&\\'()*+,-./:;<=>?@[\\\\]^_`{|}~'"
            ],
            "application/vnd.google.colaboratory.intrinsic+json": {
              "type": "string"
            }
          },
          "metadata": {},
          "execution_count": 69
        }
      ],
      "source": [
        "#Get all keyboard characters\n",
        "import string\n",
        "alphabet = string.ascii_lowercase+string.digits + string.punctuation\n",
        "alphabet"
      ]
    },
    {
      "cell_type": "code",
      "execution_count": 70,
      "metadata": {
        "id": "LlgsBP4nLP_L"
      },
      "outputs": [],
      "source": [
        "NUM_CHAR_TOKENS = len(alphabet) + 2\n",
        "#Creating char level mtoken vectorization layer\n",
        "char_vectorizer = TextVectorization(max_tokens = NUM_CHAR_TOKENS, output_sequence_length = output_seq_char_len,standardize = \"lower_and_strip_punctuation\",name = \"char_vectorizer\")"
      ]
    },
    {
      "cell_type": "code",
      "execution_count": 71,
      "metadata": {
        "id": "Tz5JYjeCL-dY"
      },
      "outputs": [],
      "source": [
        "char_vectorizer.adapt(train_chars)"
      ]
    },
    {
      "cell_type": "code",
      "execution_count": 72,
      "metadata": {
        "id": "Gu3ObQG9MGV2"
      },
      "outputs": [],
      "source": [
        "char_vocab = char_vectorizer.get_vocabulary()"
      ]
    },
    {
      "cell_type": "code",
      "execution_count": 73,
      "metadata": {
        "colab": {
          "base_uri": "https://localhost:8080/"
        },
        "id": "16hX7ybmMLu8",
        "outputId": "81f61199-d6c6-4790-f10f-312c691aecd8"
      },
      "outputs": [
        {
          "output_type": "stream",
          "name": "stdout",
          "text": [
            "Number of different characters in our vocabulary is 28\n",
            "Five most common characters:['', '[UNK]', 'e', 't', 'i']\n"
          ]
        }
      ],
      "source": [
        "print(f\"Number of different characters in our vocabulary is {len(char_vocab)}\")\n",
        "print(f\"Five most common characters:{char_vocab[:5]}\")"
      ]
    },
    {
      "cell_type": "code",
      "execution_count": 74,
      "metadata": {
        "colab": {
          "base_uri": "https://localhost:8080/"
        },
        "id": "b2Zwy4aJM1Ty",
        "outputId": "6245297f-eebc-43ca-cc60-49487787a8b2"
      },
      "outputs": [
        {
          "output_type": "stream",
          "name": "stdout",
          "text": [
            "Randomly selected character sequence : \n",
            "p a r t i c i p a n t s   i n   t h e   i n t e r v e n t i o n   g r o u p   r e c e i v e d   t h r e e   i n d i v i d u a l i z e d   ,   s e l f - e f f i c a c y - e n h a n c i n g   s e s s i o n s   .\n",
            "\n",
            "Vectorized_chars = \n",
            "[[14  5  8  3  4 11  4 14  5  6  3  9  4  6  3 13  2  4  6  3  2  8 21  2\n",
            "   6  3  4  7  6 18  8  7 16 14  8  2 11  2  4 21  2 10  3 13  8  2  2  4\n",
            "   6 10  4 21  4 10 16  5 12  4 25  2 10  9  2 12 17  2 17 17  4 11  5 11\n",
            "  19  2  6 13  5  6 11  4  6 18  9  2  9  9  4  7  6  9  0  0  0  0  0  0\n",
            "   0  0  0  0  0  0  0  0  0  0  0  0  0  0  0  0  0  0  0  0  0  0  0  0\n",
            "   0  0  0  0  0  0  0  0  0  0  0  0  0  0  0  0  0  0  0  0  0  0  0  0\n",
            "   0  0  0  0  0  0  0  0  0  0  0  0  0  0  0  0  0  0  0  0  0  0  0  0\n",
            "   0  0  0  0  0  0  0  0  0  0  0  0  0  0  0  0  0  0  0  0  0  0  0  0\n",
            "   0  0  0  0  0  0  0  0  0  0  0  0  0  0  0  0  0  0  0  0  0  0  0  0\n",
            "   0  0  0  0  0  0  0  0  0  0  0  0  0  0  0  0  0  0  0  0  0  0  0  0\n",
            "   0  0  0  0  0  0  0  0  0  0  0  0  0  0  0  0  0  0  0  0  0  0  0  0\n",
            "   0  0  0  0  0  0  0  0  0  0  0  0  0  0  0  0  0  0  0  0  0  0  0  0\n",
            "   0  0]]\n"
          ]
        }
      ],
      "source": [
        "random_chars = random.choice(train_chars)\n",
        "vectorize_chars = char_vectorizer([random_chars])\n",
        "print(f\"Randomly selected character sequence : \\n{random_chars}\\n\")\n",
        "print(f\"Vectorized_chars = \\n{vectorize_chars}\")"
      ]
    },
    {
      "cell_type": "markdown",
      "metadata": {
        "id": "lkWc41FzNTKH"
      },
      "source": [
        "Creating a character level embedding layer"
      ]
    },
    {
      "cell_type": "code",
      "execution_count": 75,
      "metadata": {
        "id": "VMGaDWbRNdQ1"
      },
      "outputs": [],
      "source": [
        "#creating char embedding layer\n",
        "char_embed = layers.Embedding(input_dim = len(char_vocab), output_dim = 25,#This is the size of the char embedding in the paper\n",
        "                                  mask_zero = True, name = \"char_embed\")\n",
        "\n"
      ]
    },
    {
      "cell_type": "markdown",
      "metadata": {
        "id": "ccpnOIL2PVdV"
      },
      "source": [
        "#Model 3: Conv1D model"
      ]
    },
    {
      "cell_type": "code",
      "execution_count": 76,
      "metadata": {
        "id": "jcFIxNdIPWRs"
      },
      "outputs": [],
      "source": [
        "inputs = layers.Input(shape = (1,), dtype = tf.string)\n",
        "char_vectors = char_vectorizer(inputs)\n",
        "char_embeddings = char_embed(char_vectors)\n",
        "x = layers.Conv1D(64, kernel_size = 5,padding = \"same\", activation = \"relu\")(char_embeddings)\n",
        "x= layers.GlobalMaxPool1D()(x)\n",
        "outputs = layers.Dense(num_classes, activation = \"softmax\")(x)\n",
        "model_3 = tf.keras.Model(inputs,outputs,name = \"Model2_conv1D\")"
      ]
    },
    {
      "cell_type": "code",
      "execution_count": 77,
      "metadata": {
        "id": "UByR9WBLQ5cT"
      },
      "outputs": [],
      "source": [
        "model_3.compile(loss=  \"categorical_crossentropy\", optimizer = tf.keras.optimizers.Adam(), metrics = [\"accuracy\"])"
      ]
    },
    {
      "cell_type": "code",
      "execution_count": 78,
      "metadata": {
        "id": "wvpZ3KDdSKxv"
      },
      "outputs": [],
      "source": [
        "train_char_dataset = tf.data.Dataset.from_tensor_slices((train_chars, train_labels_one_hot)).batch(32).prefetch(tf.data.AUTOTUNE)\n",
        "val_char_dataset = tf.data.Dataset.from_tensor_slices((val_chars,val_labels_one_hot)).batch(32).prefetch(tf.data.AUTOTUNE)\n",
        "test_char_dataset = tf.data.Dataset.from_tensor_slices((test_chars, test_labels_one_hot)).batch(32).prefetch(tf.data.AUTOTUNE)"
      ]
    },
    {
      "cell_type": "code",
      "execution_count": 79,
      "metadata": {
        "colab": {
          "base_uri": "https://localhost:8080/"
        },
        "id": "94kW6nzeTMbl",
        "outputId": "ebaca6d5-791f-4cca-8819-933cdc2ed7ff"
      },
      "outputs": [
        {
          "output_type": "stream",
          "name": "stdout",
          "text": [
            "Epoch 1/3\n",
            "562/562 [==============================] - 4s 6ms/step - loss: 1.2497 - accuracy: 0.5021 - val_loss: 1.0301 - val_accuracy: 0.5868\n",
            "Epoch 2/3\n",
            "562/562 [==============================] - 3s 5ms/step - loss: 0.9997 - accuracy: 0.6019 - val_loss: 0.9406 - val_accuracy: 0.6287\n",
            "Epoch 3/3\n",
            "562/562 [==============================] - 3s 5ms/step - loss: 0.9314 - accuracy: 0.6307 - val_loss: 0.8681 - val_accuracy: 0.6632\n"
          ]
        }
      ],
      "source": [
        "model3_history = model_3.fit(train_char_dataset,epochs = 3, steps_per_epoch = int(0.1*len(train_char_dataset)), validation_data = val_char_dataset,validation_steps = int(0.1*len(val_char_dataset)))"
      ]
    },
    {
      "cell_type": "code",
      "execution_count": 80,
      "metadata": {
        "colab": {
          "base_uri": "https://localhost:8080/"
        },
        "id": "KajhHpf3VN_9",
        "outputId": "0cc687fb-9b64-4f8a-8bbd-7e9267fe10b7"
      },
      "outputs": [
        {
          "output_type": "stream",
          "name": "stdout",
          "text": [
            "945/945 [==============================] - 2s 2ms/step\n"
          ]
        },
        {
          "output_type": "execute_result",
          "data": {
            "text/plain": [
              "array([[0.13475999, 0.29531056, 0.1065155 , 0.39277062, 0.07064341],\n",
              "       [0.17178589, 0.6075771 , 0.02544078, 0.09946544, 0.09573078],\n",
              "       [0.10235051, 0.34189582, 0.26986963, 0.21688081, 0.06900322],\n",
              "       ...,\n",
              "       [0.01105108, 0.03374524, 0.16656557, 0.01075489, 0.7778832 ],\n",
              "       [0.0578608 , 0.351693  , 0.25974423, 0.08128212, 0.2494199 ],\n",
              "       [0.5470179 , 0.22659472, 0.15046078, 0.06111922, 0.01480738]],\n",
              "      dtype=float32)"
            ]
          },
          "metadata": {},
          "execution_count": 80
        }
      ],
      "source": [
        "model3_pred_probs = model_3.predict(val_char_dataset)\n",
        "model3_pred_probs"
      ]
    },
    {
      "cell_type": "code",
      "execution_count": 81,
      "metadata": {
        "colab": {
          "base_uri": "https://localhost:8080/"
        },
        "id": "lHZrgYT0W6Nr",
        "outputId": "cc8b94af-1168-45f4-9a23-3edaeedfe4af"
      },
      "outputs": [
        {
          "output_type": "execute_result",
          "data": {
            "text/plain": [
              "<tf.Tensor: shape=(30212,), dtype=int64, numpy=array([3, 1, 1, ..., 4, 1, 0])>"
            ]
          },
          "metadata": {},
          "execution_count": 81
        }
      ],
      "source": [
        "model_preds = tf.argmax(model3_pred_probs, axis  =1)\n",
        "model_preds"
      ]
    },
    {
      "cell_type": "code",
      "execution_count": 82,
      "metadata": {
        "id": "tV6L8KLVXD1K"
      },
      "outputs": [],
      "source": [
        "model3_results = calculate_results(val_labels_encoded, model_preds)"
      ]
    },
    {
      "cell_type": "code",
      "execution_count": 83,
      "metadata": {
        "colab": {
          "base_uri": "https://localhost:8080/"
        },
        "id": "gH4fbc5_XOH1",
        "outputId": "e27dac3d-1800-4bf5-cccc-c392145c788a"
      },
      "outputs": [
        {
          "output_type": "execute_result",
          "data": {
            "text/plain": [
              "{'accuracy': 0.6509996028068317,\n",
              " 'precision': 0.6458547541387365,\n",
              " 'recall': 0.6509996028068317,\n",
              " 'f1_score': 0.6414332448401318}"
            ]
          },
          "metadata": {},
          "execution_count": 83
        }
      ],
      "source": [
        "model3_results"
      ]
    },
    {
      "cell_type": "markdown",
      "metadata": {
        "id": "cfpLyME0XWmC"
      },
      "source": [
        "#Model 4: Building a multi input(token+charcter embedding) model"
      ]
    },
    {
      "cell_type": "code",
      "execution_count": 84,
      "metadata": {
        "id": "Nr4MOufDLGkF"
      },
      "outputs": [],
      "source": [
        "#Setup list of token inputs\n",
        "token_inputs = layers.Input(shape = [], dtype = tf.string, name = \"token_input\")\n",
        "token_embeddings = tf_hub_embedding_layer(token_inputs)\n",
        "token_output=  layers.Dense(128, activation = \"relu\",name = \"token_output\")(token_embeddings)\n",
        "token_model = tf.keras.Model(token_inputs,token_output)\n",
        "#Set up char input model\n",
        "char_inputs = layers.Input(shape = [], dtype = tf.string, name = \"char_input\")\n",
        "char_vectors = char_vectorizer(char_inputs)\n",
        "char_embeddings = char_embed(char_vectors)\n",
        "char_bi_lstm = layers.Bidirectional(layers.LSTM(24))(char_embeddings)#bi-LSTM shown in figure 1 of paper\n",
        "char_model = tf.keras.Model(char_inputs, char_bi_lstm)"
      ]
    },
    {
      "cell_type": "code",
      "execution_count": 85,
      "metadata": {
        "id": "GBqQ2Lq6MxDM"
      },
      "outputs": [],
      "source": [
        "#concatenate token and char inputs\n",
        "token_char_concat = layers.Concatenate(name = \"token_char_hybrid\")([token_model.output,char_model.output])"
      ]
    },
    {
      "cell_type": "code",
      "execution_count": 86,
      "metadata": {
        "id": "G7mcdIXDNSDf"
      },
      "outputs": [],
      "source": [
        "#4 create output layers, adding in dropout\n",
        "combined_dropout = layers.Dropout(0.5)(token_char_concat)\n",
        "combined_dense = layers.Dense(128, activation = \"relu\")(combined_dropout)\n",
        "final_dropout = layers.Dropout(0.5)(combined_dense)\n",
        "output_layer = layers.Dense(num_classes, activation = 'softmax', name = \"output_layer\")(final_dropout)\n",
        "model_4 = tf.keras.Model([token_model.input,char_model.input],output_layer, name = \"model4_token_amnd_char_embeddings\")"
      ]
    },
    {
      "cell_type": "code",
      "execution_count": 87,
      "metadata": {
        "colab": {
          "base_uri": "https://localhost:8080/"
        },
        "id": "n4rQ2ahwOUj0",
        "outputId": "3f4b542c-6d6e-4cf2-bceb-6afc0cb8f9e7"
      },
      "outputs": [
        {
          "output_type": "stream",
          "name": "stdout",
          "text": [
            "Model: \"model4_token_amnd_char_embeddings\"\n",
            "__________________________________________________________________________________________________\n",
            " Layer (type)                   Output Shape         Param #     Connected to                     \n",
            "==================================================================================================\n",
            " char_input (InputLayer)        [(None,)]            0           []                               \n",
            "                                                                                                  \n",
            " token_input (InputLayer)       [(None,)]            0           []                               \n",
            "                                                                                                  \n",
            " char_vectorizer (TextVectoriza  (None, 290)         0           ['char_input[0][0]']             \n",
            " tion)                                                                                            \n",
            "                                                                                                  \n",
            " Universal_sentence_encoder (Ke  (None, 512)         256797824   ['token_input[0][0]']            \n",
            " rasLayer)                                                                                        \n",
            "                                                                                                  \n",
            " char_embed (Embedding)         (None, 290, 25)      700         ['char_vectorizer[1][0]']        \n",
            "                                                                                                  \n",
            " token_output (Dense)           (None, 128)          65664       ['Universal_sentence_encoder[1][0\n",
            "                                                                 ]']                              \n",
            "                                                                                                  \n",
            " bidirectional (Bidirectional)  (None, 48)           9600        ['char_embed[1][0]']             \n",
            "                                                                                                  \n",
            " token_char_hybrid (Concatenate  (None, 176)         0           ['token_output[0][0]',           \n",
            " )                                                                'bidirectional[0][0]']          \n",
            "                                                                                                  \n",
            " dropout (Dropout)              (None, 176)          0           ['token_char_hybrid[0][0]']      \n",
            "                                                                                                  \n",
            " dense_4 (Dense)                (None, 128)          22656       ['dropout[0][0]']                \n",
            "                                                                                                  \n",
            " dropout_1 (Dropout)            (None, 128)          0           ['dense_4[0][0]']                \n",
            "                                                                                                  \n",
            " output_layer (Dense)           (None, 5)            645         ['dropout_1[0][0]']              \n",
            "                                                                                                  \n",
            "==================================================================================================\n",
            "Total params: 256,897,089\n",
            "Trainable params: 99,265\n",
            "Non-trainable params: 256,797,824\n",
            "__________________________________________________________________________________________________\n"
          ]
        }
      ],
      "source": [
        "model_4.summary()"
      ]
    },
    {
      "cell_type": "markdown",
      "metadata": {
        "id": "MWmt94kbOu9S"
      },
      "source": [
        "Visualizing our data inputs"
      ]
    },
    {
      "cell_type": "code",
      "execution_count": 88,
      "metadata": {
        "colab": {
          "base_uri": "https://localhost:8080/",
          "height": 976
        },
        "id": "8PsBPw-FOyTy",
        "outputId": "3131e00d-2e70-465b-e732-da74ec36f863"
      },
      "outputs": [
        {
          "output_type": "execute_result",
          "data": {
            "image/png": "[encoded data removed]",
            "text/plain": [
              "<IPython.core.display.Image object>"
            ]
          },
          "metadata": {},
          "execution_count": 88
        }
      ],
      "source": [
        "#Plot the model\n",
        "from keras.utils import plot_model\n",
        "plot_model(model_4,show_shapes = True)"
      ]
    },
    {
      "cell_type": "code",
      "execution_count": 89,
      "metadata": {
        "id": "tp79nqDUPKYf"
      },
      "outputs": [],
      "source": [
        "#compile the model\n",
        "model_4.compile(loss = \"categorical_crossentropy\", optimizer = tf.keras.optimizers.Adam(), metrics = [\"accuracy\"])"
      ]
    },
    {
      "cell_type": "markdown",
      "metadata": {
        "id": "tPYNlFYmQWZh"
      },
      "source": [
        "#crafting multi nodel fast input data(combining token and character data)\n"
      ]
    },
    {
      "cell_type": "code",
      "execution_count": 90,
      "metadata": {
        "id": "-ODT21K3Q2fD"
      },
      "outputs": [],
      "source": [
        "train_char_token_data = tf.data.Dataset.from_tensor_slices((train_sentences,train_chars))\n",
        "train_char_token_labels = tf.data.Dataset.from_tensor_slices(train_labels_one_hot)\n",
        "train_char_token_dataset = tf.data.Dataset.zip((train_char_token_data,train_char_token_labels))\n",
        "train_char_token_dataset = train_char_token_dataset.batch(32).prefetch(tf.data.AUTOTUNE)"
      ]
    },
    {
      "cell_type": "code",
      "execution_count": 91,
      "metadata": {
        "id": "pwxPqiRhR-5m"
      },
      "outputs": [],
      "source": [
        "val_char_token_data = tf.data.Dataset.from_tensor_slices((val_sentences,val_chars))\n",
        "val_char_token_labels = tf.data.Dataset.from_tensor_slices(val_labels_one_hot)\n",
        "val_char_token_dataset = tf.data.Dataset.zip((val_char_token_data,val_char_token_labels))\n",
        "val_char_token_dataset = val_char_token_dataset.batch(32).prefetch(tf.data.AUTOTUNE)"
      ]
    },
    {
      "cell_type": "code",
      "execution_count": 92,
      "metadata": {
        "colab": {
          "base_uri": "https://localhost:8080/"
        },
        "id": "TzMEOB74SYzc",
        "outputId": "824df68c-97e9-4897-f542-7c36097e8e2b"
      },
      "outputs": [
        {
          "output_type": "execute_result",
          "data": {
            "text/plain": [
              "(<PrefetchDataset element_spec=((TensorSpec(shape=(None,), dtype=tf.string, name=None), TensorSpec(shape=(None,), dtype=tf.string, name=None)), TensorSpec(shape=(None, 5), dtype=tf.float64, name=None))>,\n",
              " <PrefetchDataset element_spec=((TensorSpec(shape=(None,), dtype=tf.string, name=None), TensorSpec(shape=(None,), dtype=tf.string, name=None)), TensorSpec(shape=(None, 5), dtype=tf.float64, name=None))>)"
            ]
          },
          "metadata": {},
          "execution_count": 92
        }
      ],
      "source": [
        "train_char_token_dataset,val_char_token_dataset"
      ]
    },
    {
      "cell_type": "code",
      "execution_count": 93,
      "metadata": {
        "colab": {
          "base_uri": "https://localhost:8080/"
        },
        "id": "s7jC6IW1Sf5u",
        "outputId": "495fda19-69f2-424f-f37e-ed3ee5aca892"
      },
      "outputs": [
        {
          "output_type": "stream",
          "name": "stdout",
          "text": [
            "Epoch 1/3\n",
            "562/562 [==============================] - 39s 53ms/step - loss: 0.9828 - accuracy: 0.6074 - val_loss: 0.7717 - val_accuracy: 0.7025\n",
            "Epoch 2/3\n",
            "562/562 [==============================] - 27s 47ms/step - loss: 0.7986 - accuracy: 0.6924 - val_loss: 0.7151 - val_accuracy: 0.7284\n",
            "Epoch 3/3\n",
            "562/562 [==============================] - 24s 43ms/step - loss: 0.7775 - accuracy: 0.7043 - val_loss: 0.6934 - val_accuracy: 0.7394\n"
          ]
        }
      ],
      "source": [
        "#Fitting the model on token and character level sequences\n",
        "history_model4 = model_4.fit(train_char_token_dataset,epochs = 3,\n",
        "                             steps_per_epoch = int(0.1*len(train_char_token_dataset)),\n",
        "                             validation_data = val_char_token_dataset,\n",
        "                             validation_steps = int(0.1*len(val_char_token_dataset)))"
      ]
    },
    {
      "cell_type": "code",
      "execution_count": 94,
      "metadata": {
        "colab": {
          "base_uri": "https://localhost:8080/"
        },
        "id": "vNwwCyyOUOv6",
        "outputId": "8486c0b7-7786-4609-8a74-3b070ab39ee0"
      },
      "outputs": [
        {
          "output_type": "stream",
          "name": "stdout",
          "text": [
            "945/945 [==============================] - 22s 23ms/step - loss: 0.6995 - accuracy: 0.7348\n"
          ]
        },
        {
          "output_type": "execute_result",
          "data": {
            "text/plain": [
              "[0.6995224356651306, 0.7347742915153503]"
            ]
          },
          "metadata": {},
          "execution_count": 94
        }
      ],
      "source": [
        "model_4.evaluate(val_char_token_dataset)\n"
      ]
    },
    {
      "cell_type": "code",
      "execution_count": 95,
      "metadata": {
        "colab": {
          "base_uri": "https://localhost:8080/"
        },
        "id": "8y9c9wVkUP3b",
        "outputId": "ed45607d-2906-481f-fbd2-dd34ad7a2993"
      },
      "outputs": [
        {
          "output_type": "stream",
          "name": "stdout",
          "text": [
            "945/945 [==============================] - 24s 23ms/step\n"
          ]
        },
        {
          "output_type": "execute_result",
          "data": {
            "text/plain": [
              "array([[4.3653047e-01, 3.2781097e-01, 3.6979665e-03, 2.2614647e-01,\n",
              "        5.8141341e-03],\n",
              "       [3.9153045e-01, 4.1819918e-01, 3.9109099e-03, 1.8443266e-01,\n",
              "        1.9268310e-03],\n",
              "       [3.2853073e-01, 2.0169203e-01, 4.3624174e-02, 3.8852239e-01,\n",
              "        3.7630718e-02],\n",
              "       ...,\n",
              "       [5.7189877e-04, 8.3057247e-03, 5.9606437e-02, 1.8800104e-04,\n",
              "        9.3132800e-01],\n",
              "       [8.5915215e-03, 8.0121741e-02, 2.2834711e-01, 3.8855365e-03,\n",
              "        6.7905408e-01],\n",
              "       [2.6486537e-01, 3.7545946e-01, 2.8105548e-01, 3.5369862e-02,\n",
              "        4.3249812e-02]], dtype=float32)"
            ]
          },
          "metadata": {},
          "execution_count": 95
        }
      ],
      "source": [
        "model4_pred_probs = model_4.predict(val_char_token_dataset)\n",
        "model4_pred_probs"
      ]
    },
    {
      "cell_type": "code",
      "execution_count": 96,
      "metadata": {
        "colab": {
          "base_uri": "https://localhost:8080/"
        },
        "id": "sK5kg3lwUA7Z",
        "outputId": "175118fd-813d-4944-ec3f-35fd6d67cd0f"
      },
      "outputs": [
        {
          "output_type": "execute_result",
          "data": {
            "text/plain": [
              "<tf.Tensor: shape=(30212,), dtype=int64, numpy=array([0, 1, 3, ..., 4, 4, 1])>"
            ]
          },
          "metadata": {},
          "execution_count": 96
        }
      ],
      "source": [
        "model4_preds = tf.argmax(model4_pred_probs, axis = 1)\n",
        "model4_preds"
      ]
    },
    {
      "cell_type": "code",
      "execution_count": 97,
      "metadata": {
        "colab": {
          "base_uri": "https://localhost:8080/"
        },
        "id": "wcBUXmFzUV8b",
        "outputId": "dc1ac949-3d2a-4315-efa5-d217eea145b5"
      },
      "outputs": [
        {
          "output_type": "execute_result",
          "data": {
            "text/plain": [
              "{'accuracy': 0.7347742618826956,\n",
              " 'precision': 0.7361643827959797,\n",
              " 'recall': 0.7347742618826956,\n",
              " 'f1_score': 0.7332741251246219}"
            ]
          },
          "metadata": {},
          "execution_count": 97
        }
      ],
      "source": [
        "model4_results = calculate_results(val_labels_encoded,model4_preds)\n",
        "model4_results"
      ]
    },
    {
      "cell_type": "markdown",
      "metadata": {
        "id": "stIr5V2TUz6A"
      },
      "source": [
        "#Model 5 :Adding positional embeddings via feature engineering"
      ]
    },
    {
      "cell_type": "markdown",
      "metadata": {
        "id": "IBMXEbo5WGL4"
      },
      "source": [
        "Any engineered feature used to train a model need to be available at test time , in our case, line numbers and total lines are vailbale"
      ]
    },
    {
      "cell_type": "code",
      "execution_count": 98,
      "metadata": {
        "colab": {
          "base_uri": "https://localhost:8080/"
        },
        "id": "83yl4Uuqdz9p",
        "outputId": "7d4156a8-4aa9-44e4-d5f7-9e82430620d2"
      },
      "outputs": [
        {
          "output_type": "execute_result",
          "data": {
            "text/plain": [
              "0     15000\n",
              "1     15000\n",
              "2     15000\n",
              "3     15000\n",
              "4     14992\n",
              "5     14949\n",
              "6     14758\n",
              "7     14279\n",
              "8     13346\n",
              "9     11981\n",
              "10    10041\n",
              "11     7892\n",
              "12     5853\n",
              "13     4152\n",
              "14     2835\n",
              "15     1861\n",
              "16     1188\n",
              "17      751\n",
              "18      462\n",
              "19      286\n",
              "20      162\n",
              "21      101\n",
              "22       66\n",
              "23       33\n",
              "24       22\n",
              "25       14\n",
              "26        7\n",
              "27        4\n",
              "28        3\n",
              "29        1\n",
              "30        1\n",
              "Name: line_number, dtype: int64"
            ]
          },
          "metadata": {},
          "execution_count": 98
        }
      ],
      "source": [
        "train_df[\"line_number\"].value_counts()"
      ]
    },
    {
      "cell_type": "code",
      "execution_count": 99,
      "metadata": {
        "colab": {
          "base_uri": "https://localhost:8080/",
          "height": 282
        },
        "id": "dNngVFYhe0nK",
        "outputId": "d8fe3e5f-914b-4c92-adb0-162e6e1028d5"
      },
      "outputs": [
        {
          "output_type": "execute_result",
          "data": {
            "text/plain": [
              "<matplotlib.axes._subplots.AxesSubplot at 0x7f09e8216b50>"
            ]
          },
          "metadata": {},
          "execution_count": 99
        },
        {
          "output_type": "display_data",
          "data": {
            "text/plain": [
              "<Figure size 432x288 with 1 Axes>"
            ],
            "image/png": "[encoded data removed]"
          },
          "metadata": {
            "needs_background": "light"
          }
        }
      ],
      "source": [
        "#check distribution of line number column\n",
        "train_df.line_number.plot.hist()"
      ]
    },
    {
      "cell_type": "code",
      "execution_count": 100,
      "metadata": {
        "colab": {
          "base_uri": "https://localhost:8080/"
        },
        "id": "76S2857WfUT_",
        "outputId": "afed970f-1127-4f6a-e5f2-575367775ec5"
      },
      "outputs": [
        {
          "output_type": "execute_result",
          "data": {
            "text/plain": [
              "(TensorShape([180040, 15]), <tf.Tensor: shape=(10, 15), dtype=float32, numpy=\n",
              " array([[1., 0., 0., 0., 0., 0., 0., 0., 0., 0., 0., 0., 0., 0., 0.],\n",
              "        [0., 1., 0., 0., 0., 0., 0., 0., 0., 0., 0., 0., 0., 0., 0.],\n",
              "        [0., 0., 1., 0., 0., 0., 0., 0., 0., 0., 0., 0., 0., 0., 0.],\n",
              "        [0., 0., 0., 1., 0., 0., 0., 0., 0., 0., 0., 0., 0., 0., 0.],\n",
              "        [0., 0., 0., 0., 1., 0., 0., 0., 0., 0., 0., 0., 0., 0., 0.],\n",
              "        [0., 0., 0., 0., 0., 1., 0., 0., 0., 0., 0., 0., 0., 0., 0.],\n",
              "        [0., 0., 0., 0., 0., 0., 1., 0., 0., 0., 0., 0., 0., 0., 0.],\n",
              "        [0., 0., 0., 0., 0., 0., 0., 1., 0., 0., 0., 0., 0., 0., 0.],\n",
              "        [0., 0., 0., 0., 0., 0., 0., 0., 1., 0., 0., 0., 0., 0., 0.],\n",
              "        [0., 0., 0., 0., 0., 0., 0., 0., 0., 1., 0., 0., 0., 0., 0.]],\n",
              "       dtype=float32)>)"
            ]
          },
          "metadata": {},
          "execution_count": 100
        }
      ],
      "source": [
        "train_line_numbers_one_hot = tf.one_hot(train_df[\"line_number\"].to_numpy(), depth = 15)\n",
        "val_line_numbers_one_hot = tf.one_hot(val_df[\"line_number\"].to_numpy(), depth = 15)\n",
        "test_line_numbers_one_hot = tf.one_hot(test_df[\"line_number\"].to_numpy(), depth = 15)\n",
        "train_line_numbers_one_hot.shape, train_line_numbers_one_hot[:10]"
      ]
    },
    {
      "cell_type": "code",
      "execution_count": 101,
      "metadata": {
        "colab": {
          "base_uri": "https://localhost:8080/"
        },
        "id": "R5qDpa_Afse-",
        "outputId": "9ba7bda1-b9d8-49b7-b589-2c6658fd3fe2"
      },
      "outputs": [
        {
          "output_type": "execute_result",
          "data": {
            "text/plain": [
              "12    24468\n",
              "11    23639\n",
              "13    22113\n",
              "10    19400\n",
              "14    18438\n",
              "15    14610\n",
              "9     12285\n",
              "16    10768\n",
              "8      7464\n",
              "17     7429\n",
              "18     5202\n",
              "7      3353\n",
              "19     3344\n",
              "20     2480\n",
              "21     1281\n",
              "6      1146\n",
              "22      770\n",
              "23      759\n",
              "24      264\n",
              "5       215\n",
              "25      200\n",
              "26      182\n",
              "27       81\n",
              "29       58\n",
              "4        32\n",
              "31       31\n",
              "28       28\n",
              "Name: total_lines, dtype: int64"
            ]
          },
          "metadata": {},
          "execution_count": 101
        }
      ],
      "source": [
        "train_df[\"total_lines\"].value_counts()"
      ]
    },
    {
      "cell_type": "code",
      "execution_count": 102,
      "metadata": {
        "colab": {
          "base_uri": "https://localhost:8080/",
          "height": 284
        },
        "id": "vgJcNgBXguKK",
        "outputId": "2649be91-9a5e-4218-f1ed-19f59d2542db"
      },
      "outputs": [
        {
          "output_type": "execute_result",
          "data": {
            "text/plain": [
              "<matplotlib.axes._subplots.AxesSubplot at 0x7f09ff167910>"
            ]
          },
          "metadata": {},
          "execution_count": 102
        },
        {
          "output_type": "display_data",
          "data": {
            "text/plain": [
              "<Figure size 432x288 with 1 Axes>"
            ],
            "image/png": "[encoded data removed]"
          },
          "metadata": {
            "needs_background": "light"
          }
        }
      ],
      "source": [
        "train_df.total_lines.plot.hist()"
      ]
    },
    {
      "cell_type": "code",
      "execution_count": 103,
      "metadata": {
        "colab": {
          "base_uri": "https://localhost:8080/"
        },
        "id": "oHyMuXbChFTQ",
        "outputId": "7133f50f-f7a5-4244-f9f1-013321b893ef"
      },
      "outputs": [
        {
          "output_type": "execute_result",
          "data": {
            "text/plain": [
              "21.0"
            ]
          },
          "metadata": {},
          "execution_count": 103
        }
      ],
      "source": [
        "np.percentile(train_df.total_lines,98)"
      ]
    },
    {
      "cell_type": "code",
      "execution_count": 104,
      "metadata": {
        "colab": {
          "base_uri": "https://localhost:8080/"
        },
        "id": "OcgZb97fhmRw",
        "outputId": "960c8f62-3f0c-4af0-aad0-962db19562a8"
      },
      "outputs": [
        {
          "output_type": "execute_result",
          "data": {
            "text/plain": [
              "(TensorShape([180040, 20]), <tf.Tensor: shape=(10, 20), dtype=float32, numpy=\n",
              " array([[0., 0., 0., 0., 0., 0., 0., 0., 0., 0., 0., 0., 1., 0., 0., 0.,\n",
              "         0., 0., 0., 0.],\n",
              "        [0., 0., 0., 0., 0., 0., 0., 0., 0., 0., 0., 0., 1., 0., 0., 0.,\n",
              "         0., 0., 0., 0.],\n",
              "        [0., 0., 0., 0., 0., 0., 0., 0., 0., 0., 0., 0., 1., 0., 0., 0.,\n",
              "         0., 0., 0., 0.],\n",
              "        [0., 0., 0., 0., 0., 0., 0., 0., 0., 0., 0., 0., 1., 0., 0., 0.,\n",
              "         0., 0., 0., 0.],\n",
              "        [0., 0., 0., 0., 0., 0., 0., 0., 0., 0., 0., 0., 1., 0., 0., 0.,\n",
              "         0., 0., 0., 0.],\n",
              "        [0., 0., 0., 0., 0., 0., 0., 0., 0., 0., 0., 0., 1., 0., 0., 0.,\n",
              "         0., 0., 0., 0.],\n",
              "        [0., 0., 0., 0., 0., 0., 0., 0., 0., 0., 0., 0., 1., 0., 0., 0.,\n",
              "         0., 0., 0., 0.],\n",
              "        [0., 0., 0., 0., 0., 0., 0., 0., 0., 0., 0., 0., 1., 0., 0., 0.,\n",
              "         0., 0., 0., 0.],\n",
              "        [0., 0., 0., 0., 0., 0., 0., 0., 0., 0., 0., 0., 1., 0., 0., 0.,\n",
              "         0., 0., 0., 0.],\n",
              "        [0., 0., 0., 0., 0., 0., 0., 0., 0., 0., 0., 0., 1., 0., 0., 0.,\n",
              "         0., 0., 0., 0.]], dtype=float32)>)"
            ]
          },
          "metadata": {},
          "execution_count": 104
        }
      ],
      "source": [
        "#use tensorflow to create one-hot-encoded feature\n",
        "train_total_lines_one_hot = tf.one_hot(train_df[\"total_lines\"].to_numpy(), depth = 20)\n",
        "val_total_lines_one_hot = tf.one_hot(val_df[\"total_lines\"].to_numpy(), depth = 20)\n",
        "test_total_lines_one_hot = tf.one_hot(test_df[\"total_lines\"].to_numpy(), depth = 20)\n",
        "train_total_lines_one_hot.shape, train_total_lines_one_hot[:10]"
      ]
    },
    {
      "cell_type": "code",
      "execution_count": 105,
      "metadata": {
        "id": "o70qYl06iPsT"
      },
      "outputs": [],
      "source": [
        "#Building foundations of tribrid embedding model\n",
        "token_inputs = layers.Input(shape = [],dtype = tf.string,name = \"token_inputs\")\n",
        "token_embeddings = tf_hub_embedding_layer(token_inputs)\n",
        "token_outputs = layers.Dense(128, activation = \"relu\", name = \"output_model\")(token_embeddings)\n",
        "token_model = tf.keras.Model(token_inputs, token_outputs)\n",
        "#2. char inputs\n",
        "char_inputs = layers.Input(shape = (1,), dtype = tf.string,name = \"char_inputs\")\n",
        "char_vectors = char_vectorizer(char_inputs)\n",
        "char_embeddings = char_embed(char_vectors)\n",
        "char_bi_lstm = layers.Bidirectional(layers.LSTM(24))(char_embeddings)\n",
        "char_model = tf.keras.Model(char_inputs, char_bi_lstm)"
      ]
    },
    {
      "cell_type": "code",
      "execution_count": 106,
      "metadata": {
        "colab": {
          "base_uri": "https://localhost:8080/"
        },
        "id": "O1jqdCYfmAvK",
        "outputId": "e32d4dc6-bc7d-49e7-f7a8-8b9c34b2647e"
      },
      "outputs": [
        {
          "output_type": "execute_result",
          "data": {
            "text/plain": [
              "TensorShape([15])"
            ]
          },
          "metadata": {},
          "execution_count": 106
        }
      ],
      "source": [
        "train_line_numbers_one_hot[0].shape"
      ]
    },
    {
      "cell_type": "code",
      "execution_count": 107,
      "metadata": {
        "id": "ZXXgLUHHlLgH"
      },
      "outputs": [],
      "source": [
        "line_number_inputs = layers.Input(shape = (15,), dtype = tf.float32,name = \"line_number_input\")\n",
        "x= layers.Dense(32, activation = \"relu\")(line_number_inputs)\n",
        "line_number_model = tf.keras.Model(line_number_inputs,x)"
      ]
    },
    {
      "cell_type": "code",
      "execution_count": 108,
      "metadata": {
        "id": "U1c8Lfzymf4b"
      },
      "outputs": [],
      "source": [
        "total_lines_input = layers.Input(shape = (20,),dtype = tf.float32,name = \"total_lines_input\")\n",
        "y = layers.Dense(32, activation = \"relu\")(total_lines_input)\n",
        "total_line_model = tf.keras.Model(total_lines_input,y)"
      ]
    },
    {
      "cell_type": "code",
      "execution_count": 109,
      "metadata": {
        "id": "E36ILwmem9ZA"
      },
      "outputs": [],
      "source": [
        "#combine token and char embeddings \n",
        "combined_embeddings = layers.Concatenate(name = \"cahr_token_hybrid_embedding\")([token_model.output,char_model.output])\n",
        "z= layers.Dense(128, activation = \"relu\")(combined_embeddings)\n",
        "z= layers.Dropout(0.5)(z)\n",
        "tribrid_embeddings = layers.Concatenate(name = \"char_token_tribrid\")([line_number_model.output, total_line_model.output, z])"
      ]
    },
    {
      "cell_type": "code",
      "execution_count": 110,
      "metadata": {
        "id": "ZPic7de5oCsi"
      },
      "outputs": [],
      "source": [
        "output_layer = layers.Dense(5, activation = \"softmax\",name = \"output_layer\")(tribrid_embeddings)\n",
        "model_5 = tf.keras.Model([line_number_model.input,total_line_model.input\n",
        "                          ,token_model.input,char_model.input],output_layer,name = \"tribrid_embedding_model\")"
      ]
    },
    {
      "cell_type": "code",
      "execution_count": 111,
      "metadata": {
        "colab": {
          "base_uri": "https://localhost:8080/"
        },
        "id": "fOzpyIrRogBT",
        "outputId": "9a8da282-b7f1-45e6-ce01-087326a5b395"
      },
      "outputs": [
        {
          "output_type": "stream",
          "name": "stdout",
          "text": [
            "Model: \"tribrid_embedding_model\"\n",
            "__________________________________________________________________________________________________\n",
            " Layer (type)                   Output Shape         Param #     Connected to                     \n",
            "==================================================================================================\n",
            " char_inputs (InputLayer)       [(None, 1)]          0           []                               \n",
            "                                                                                                  \n",
            " token_inputs (InputLayer)      [(None,)]            0           []                               \n",
            "                                                                                                  \n",
            " char_vectorizer (TextVectoriza  (None, 290)         0           ['char_inputs[0][0]']            \n",
            " tion)                                                                                            \n",
            "                                                                                                  \n",
            " Universal_sentence_encoder (Ke  (None, 512)         256797824   ['token_inputs[0][0]']           \n",
            " rasLayer)                                                                                        \n",
            "                                                                                                  \n",
            " char_embed (Embedding)         (None, 290, 25)      700         ['char_vectorizer[2][0]']        \n",
            "                                                                                                  \n",
            " output_model (Dense)           (None, 128)          65664       ['Universal_sentence_encoder[2][0\n",
            "                                                                 ]']                              \n",
            "                                                                                                  \n",
            " bidirectional_1 (Bidirectional  (None, 48)          9600        ['char_embed[2][0]']             \n",
            " )                                                                                                \n",
            "                                                                                                  \n",
            " cahr_token_hybrid_embedding (C  (None, 176)         0           ['output_model[0][0]',           \n",
            " oncatenate)                                                      'bidirectional_1[0][0]']        \n",
            "                                                                                                  \n",
            " line_number_input (InputLayer)  [(None, 15)]        0           []                               \n",
            "                                                                                                  \n",
            " total_lines_input (InputLayer)  [(None, 20)]        0           []                               \n",
            "                                                                                                  \n",
            " dense_7 (Dense)                (None, 128)          22656       ['cahr_token_hybrid_embedding[0][\n",
            "                                                                 0]']                             \n",
            "                                                                                                  \n",
            " dense_5 (Dense)                (None, 32)           512         ['line_number_input[0][0]']      \n",
            "                                                                                                  \n",
            " dense_6 (Dense)                (None, 32)           672         ['total_lines_input[0][0]']      \n",
            "                                                                                                  \n",
            " dropout_2 (Dropout)            (None, 128)          0           ['dense_7[0][0]']                \n",
            "                                                                                                  \n",
            " char_token_tribrid (Concatenat  (None, 192)         0           ['dense_5[0][0]',                \n",
            " e)                                                               'dense_6[0][0]',                \n",
            "                                                                  'dropout_2[0][0]']              \n",
            "                                                                                                  \n",
            " output_layer (Dense)           (None, 5)            965         ['char_token_tribrid[0][0]']     \n",
            "                                                                                                  \n",
            "==================================================================================================\n",
            "Total params: 256,898,593\n",
            "Trainable params: 100,769\n",
            "Non-trainable params: 256,797,824\n",
            "__________________________________________________________________________________________________\n"
          ]
        }
      ],
      "source": [
        "model_5.summary()"
      ]
    },
    {
      "cell_type": "code",
      "execution_count": 112,
      "metadata": {
        "colab": {
          "base_uri": "https://localhost:8080/",
          "height": 825
        },
        "id": "-FBFdtk_o-tc",
        "outputId": "1af1bd98-2586-45f2-df99-66f771f55277"
      },
      "outputs": [
        {
          "output_type": "execute_result",
          "data": {
            "image/png": "[encoded data removed]",
            "text/plain": [
              "<IPython.core.display.Image object>"
            ]
          },
          "metadata": {},
          "execution_count": 112
        }
      ],
      "source": [
        "#Visualizing our model\n",
        "plot_model(model_5, show_shapes = True)"
      ]
    },
    {
      "cell_type": "code",
      "execution_count": 113,
      "metadata": {
        "id": "J6AwtPP7pOcF"
      },
      "outputs": [],
      "source": [
        "model_5.compile(loss = tf.keras.losses.CategoricalCrossentropy(label_smoothing = 0.2),#helps to prevent over-fitting\n",
        "                optimizer = tf.keras.optimizers.Adam(), metrics = [\"accuracy\"])"
      ]
    },
    {
      "cell_type": "markdown",
      "metadata": {
        "id": "o6S-ax6LqMrB"
      },
      "source": [
        "Creating tribid embeddings dataset"
      ]
    },
    {
      "cell_type": "code",
      "execution_count": 114,
      "metadata": {
        "id": "v5cmBb_9r1SV"
      },
      "outputs": [],
      "source": [
        "#Create training and validation datsets\n",
        "train_char_token_pos_data = tf.data.Dataset.from_tensor_slices((train_line_numbers_one_hot,train_total_lines_one_hot, train_sentences,train_chars))\n",
        "train_char_token_pos_labels = tf.data.Dataset.from_tensor_slices(train_labels_one_hot)\n",
        "train_char_token_pos_dataset = tf.data.Dataset.zip((train_char_token_pos_data,train_char_token_pos_labels))\n",
        "train_char_token_pos_dataset = train_char_token_pos_dataset.batch(32).prefetch(tf.data.AUTOTUNE)"
      ]
    },
    {
      "cell_type": "code",
      "execution_count": 115,
      "metadata": {
        "id": "9jWe8sb-s_DS"
      },
      "outputs": [],
      "source": [
        "val_char_token_pos_data = tf.data.Dataset.from_tensor_slices((val_line_numbers_one_hot,val_total_lines_one_hot, val_sentences,val_chars))\n",
        "val_char_token_pos_labels = tf.data.Dataset.from_tensor_slices(val_labels_one_hot)\n",
        "val_char_token_pos_dataset = tf.data.Dataset.zip((val_char_token_pos_data,val_char_token_pos_labels))\n",
        "val_char_token_pos_dataset = val_char_token_pos_dataset.batch(32).prefetch(tf.data.AUTOTUNE)"
      ]
    },
    {
      "cell_type": "code",
      "execution_count": 116,
      "metadata": {
        "colab": {
          "base_uri": "https://localhost:8080/"
        },
        "id": "06xPLvIrtigK",
        "outputId": "3ce920f0-6c5a-42d6-bfc7-bdd9e25a319c"
      },
      "outputs": [
        {
          "output_type": "execute_result",
          "data": {
            "text/plain": [
              "(<PrefetchDataset element_spec=((TensorSpec(shape=(None, 15), dtype=tf.float32, name=None), TensorSpec(shape=(None, 20), dtype=tf.float32, name=None), TensorSpec(shape=(None,), dtype=tf.string, name=None), TensorSpec(shape=(None,), dtype=tf.string, name=None)), TensorSpec(shape=(None, 5), dtype=tf.float64, name=None))>,\n",
              " <PrefetchDataset element_spec=((TensorSpec(shape=(None, 15), dtype=tf.float32, name=None), TensorSpec(shape=(None, 20), dtype=tf.float32, name=None), TensorSpec(shape=(None,), dtype=tf.string, name=None), TensorSpec(shape=(None,), dtype=tf.string, name=None)), TensorSpec(shape=(None, 5), dtype=tf.float64, name=None))>)"
            ]
          },
          "metadata": {},
          "execution_count": 116
        }
      ],
      "source": [
        "#check input shapes\n",
        "train_char_token_pos_dataset,val_char_token_pos_dataset"
      ]
    },
    {
      "cell_type": "code",
      "execution_count": 117,
      "metadata": {
        "colab": {
          "base_uri": "https://localhost:8080/"
        },
        "id": "aA2dc5-ktzBj",
        "outputId": "bf058125-c136-42e4-f6eb-34e1a03d757d"
      },
      "outputs": [
        {
          "output_type": "stream",
          "name": "stdout",
          "text": [
            "Epoch 1/3\n",
            "562/562 [==============================] - 39s 55ms/step - loss: 1.1060 - accuracy: 0.7199 - val_loss: 0.9876 - val_accuracy: 0.8042\n",
            "Epoch 2/3\n",
            "562/562 [==============================] - 27s 49ms/step - loss: 0.9761 - accuracy: 0.8116 - val_loss: 0.9514 - val_accuracy: 0.8248\n",
            "Epoch 3/3\n",
            "562/562 [==============================] - 26s 46ms/step - loss: 0.9570 - accuracy: 0.8199 - val_loss: 0.9402 - val_accuracy: 0.8314\n"
          ]
        }
      ],
      "source": [
        "#fitting our dataset\n",
        "history_model5 = model_5.fit(train_char_token_pos_dataset,epochs = 3, steps_per_epoch = int(0.1*len(train_char_token_pos_dataset)), \n",
        "                             validation_data =val_char_token_pos_dataset, validation_steps = int(0.1*len(val_char_token_pos_dataset)) )"
      ]
    },
    {
      "cell_type": "code",
      "execution_count": 118,
      "metadata": {
        "colab": {
          "base_uri": "https://localhost:8080/"
        },
        "id": "imj1aO7qu86O",
        "outputId": "40f7fe7d-bcc7-404b-c923-b4d63765a9f6"
      },
      "outputs": [
        {
          "output_type": "stream",
          "name": "stdout",
          "text": [
            "945/945 [==============================] - 24s 22ms/step\n"
          ]
        },
        {
          "output_type": "execute_result",
          "data": {
            "text/plain": [
              "array([[0.50623983, 0.1025921 , 0.01207319, 0.35928383, 0.01981104],\n",
              "       [0.48067984, 0.10543113, 0.05000105, 0.35099214, 0.0128958 ],\n",
              "       [0.2792104 , 0.127045  , 0.13094008, 0.4083536 , 0.05445094],\n",
              "       ...,\n",
              "       [0.03491001, 0.10039233, 0.04237046, 0.02856019, 0.79376704],\n",
              "       [0.0339423 , 0.31167686, 0.08002356, 0.03180297, 0.5425543 ],\n",
              "       [0.14831734, 0.6263233 , 0.12154956, 0.03340843, 0.07040142]],\n",
              "      dtype=float32)"
            ]
          },
          "metadata": {},
          "execution_count": 118
        }
      ],
      "source": [
        "model5_pred_probs = model_5.predict(val_char_token_pos_dataset, verbose = 1)\n",
        "model5_pred_probs"
      ]
    },
    {
      "cell_type": "code",
      "execution_count": 119,
      "metadata": {
        "colab": {
          "base_uri": "https://localhost:8080/"
        },
        "id": "bgOHPCCmvC2l",
        "outputId": "d731eb97-1ec6-48ad-a54e-442c89bc543c"
      },
      "outputs": [
        {
          "output_type": "execute_result",
          "data": {
            "text/plain": [
              "<tf.Tensor: shape=(30212,), dtype=int64, numpy=array([0, 0, 3, ..., 4, 4, 1])>"
            ]
          },
          "metadata": {},
          "execution_count": 119
        }
      ],
      "source": [
        "model5_preds = tf.argmax(model5_pred_probs, axis = 1)\n",
        "model5_preds"
      ]
    },
    {
      "cell_type": "code",
      "execution_count": 120,
      "metadata": {
        "colab": {
          "base_uri": "https://localhost:8080/"
        },
        "id": "rzDPd53qvJd1",
        "outputId": "169ec3f3-e69a-4688-f20c-c8a6e9715079"
      },
      "outputs": [
        {
          "output_type": "execute_result",
          "data": {
            "text/plain": [
              "{'accuracy': 0.8323513835562029,\n",
              " 'precision': 0.8312957260371513,\n",
              " 'recall': 0.8323513835562029,\n",
              " 'f1_score': 0.8316634464285197}"
            ]
          },
          "metadata": {},
          "execution_count": 120
        }
      ],
      "source": [
        "model5_results = calculate_results(val_labels_encoded,model5_preds)\n",
        "model5_results"
      ]
    },
    {
      "cell_type": "markdown",
      "metadata": {
        "id": "2oqYEOkfvhwu"
      },
      "source": [
        "#Comparing performance of our all modelling experiments"
      ]
    },
    {
      "cell_type": "code",
      "execution_count": 134,
      "metadata": {
        "colab": {
          "base_uri": "https://localhost:8080/",
          "height": 237
        },
        "id": "wPdNOBDTSY9J",
        "outputId": "e479d1b4-c40e-46bd-cb40-e11a21766402"
      },
      "outputs": [
        {
          "output_type": "execute_result",
          "data": {
            "text/plain": [
              "                                     accuracy  precision    recall  f1_score\n",
              "model_0_baseline                     0.721832   0.718647  0.721832  0.698925\n",
              "model_1_custom_token_embedding       0.785383   0.782262  0.785383  0.782905\n",
              "model_2_pretrained_token_embedding   0.715246   0.715266  0.715246  0.712120\n",
              "model_3_custom_char_embedding        0.651000   0.645855  0.651000  0.641433\n",
              "model_4_hybrid_char_token_embedding  0.734774   0.736164  0.734774  0.733274\n",
              "model5_pos_char_token_embedding      0.832351   0.831296  0.832351  0.831663"
            ],
            "text/html": [
              "\n",
              "  <div id=\"df-a89b2cc8-6ca9-4f4b-a53b-ef09c6ca3765\">\n",
              "    <div class=\"colab-df-container\">\n",
              "      <div>\n",
              "<style scoped>\n",
              "    .dataframe tbody tr th:only-of-type {\n",
              "        vertical-align: middle;\n",
              "    }\n",
              "\n",
              "    .dataframe tbody tr th {\n",
              "        vertical-align: top;\n",
              "    }\n",
              "\n",
              "    .dataframe thead th {\n",
              "        text-align: right;\n",
              "    }\n",
              "</style>\n",
              "<table border=\"1\" class=\"dataframe\">\n",
              "  <thead>\n",
              "    <tr style=\"text-align: right;\">\n",
              "      <th></th>\n",
              "      <th>accuracy</th>\n",
              "      <th>precision</th>\n",
              "      <th>recall</th>\n",
              "      <th>f1_score</th>\n",
              "    </tr>\n",
              "  </thead>\n",
              "  <tbody>\n",
              "    <tr>\n",
              "      <th>model_0_baseline</th>\n",
              "      <td>0.721832</td>\n",
              "      <td>0.718647</td>\n",
              "      <td>0.721832</td>\n",
              "      <td>0.698925</td>\n",
              "    </tr>\n",
              "    <tr>\n",
              "      <th>model_1_custom_token_embedding</th>\n",
              "      <td>0.785383</td>\n",
              "      <td>0.782262</td>\n",
              "      <td>0.785383</td>\n",
              "      <td>0.782905</td>\n",
              "    </tr>\n",
              "    <tr>\n",
              "      <th>model_2_pretrained_token_embedding</th>\n",
              "      <td>0.715246</td>\n",
              "      <td>0.715266</td>\n",
              "      <td>0.715246</td>\n",
              "      <td>0.712120</td>\n",
              "    </tr>\n",
              "    <tr>\n",
              "      <th>model_3_custom_char_embedding</th>\n",
              "      <td>0.651000</td>\n",
              "      <td>0.645855</td>\n",
              "      <td>0.651000</td>\n",
              "      <td>0.641433</td>\n",
              "    </tr>\n",
              "    <tr>\n",
              "      <th>model_4_hybrid_char_token_embedding</th>\n",
              "      <td>0.734774</td>\n",
              "      <td>0.736164</td>\n",
              "      <td>0.734774</td>\n",
              "      <td>0.733274</td>\n",
              "    </tr>\n",
              "    <tr>\n",
              "      <th>model5_pos_char_token_embedding</th>\n",
              "      <td>0.832351</td>\n",
              "      <td>0.831296</td>\n",
              "      <td>0.832351</td>\n",
              "      <td>0.831663</td>\n",
              "    </tr>\n",
              "  </tbody>\n",
              "</table>\n",
              "</div>\n",
              "      <button class=\"colab-df-convert\" onclick=\"convertToInteractive('df-a89b2cc8-6ca9-4f4b-a53b-ef09c6ca3765')\"\n",
              "              title=\"Convert this dataframe to an interactive table.\"\n",
              "              style=\"display:none;\">\n",
              "        \n",
              "  <svg xmlns=\"http://www.w3.org/2000/svg\" height=\"24px\"viewBox=\"0 0 24 24\"\n",
              "       width=\"24px\">\n",
              "    <path d=\"M0 0h24v24H0V0z\" fill=\"none\"/>\n",
              "    <path d=\"M18.56 5.44l.94 2.06.94-2.06 2.06-.94-2.06-.94-.94-2.06-.94 2.06-2.06.94zm-11 1L8.5 8.5l.94-2.06 2.06-.94-2.06-.94L8.5 2.5l-.94 2.06-2.06.94zm10 10l.94 2.06.94-2.06 2.06-.94-2.06-.94-.94-2.06-.94 2.06-2.06.94z\"/><path d=\"M17.41 7.96l-1.37-1.37c-.4-.4-.92-.59-1.43-.59-.52 0-1.04.2-1.43.59L10.3 9.45l-7.72 7.72c-.78.78-.78 2.05 0 2.83L4 21.41c.39.39.9.59 1.41.59.51 0 1.02-.2 1.41-.59l7.78-7.78 2.81-2.81c.8-.78.8-2.07 0-2.86zM5.41 20L4 18.59l7.72-7.72 1.47 1.35L5.41 20z\"/>\n",
              "  </svg>\n",
              "      </button>\n",
              "      \n",
              "  <style>\n",
              "    .colab-df-container {\n",
              "      display:flex;\n",
              "      flex-wrap:wrap;\n",
              "      gap: 12px;\n",
              "    }\n",
              "\n",
              "    .colab-df-convert {\n",
              "      background-color: #E8F0FE;\n",
              "      border: none;\n",
              "      border-radius: 50%;\n",
              "      cursor: pointer;\n",
              "      display: none;\n",
              "      fill: #1967D2;\n",
              "      height: 32px;\n",
              "      padding: 0 0 0 0;\n",
              "      width: 32px;\n",
              "    }\n",
              "\n",
              "    .colab-df-convert:hover {\n",
              "      background-color: #E2EBFA;\n",
              "      box-shadow: 0px 1px 2px rgba(60, 64, 67, 0.3), 0px 1px 3px 1px rgba(60, 64, 67, 0.15);\n",
              "      fill: #174EA6;\n",
              "    }\n",
              "\n",
              "    [theme=dark] .colab-df-convert {\n",
              "      background-color: #3B4455;\n",
              "      fill: #D2E3FC;\n",
              "    }\n",
              "\n",
              "    [theme=dark] .colab-df-convert:hover {\n",
              "      background-color: #434B5C;\n",
              "      box-shadow: 0px 1px 3px 1px rgba(0, 0, 0, 0.15);\n",
              "      filter: drop-shadow(0px 1px 2px rgba(0, 0, 0, 0.3));\n",
              "      fill: #FFFFFF;\n",
              "    }\n",
              "  </style>\n",
              "\n",
              "      <script>\n",
              "        const buttonEl =\n",
              "          document.querySelector('#df-a89b2cc8-6ca9-4f4b-a53b-ef09c6ca3765 button.colab-df-convert');\n",
              "        buttonEl.style.display =\n",
              "          google.colab.kernel.accessAllowed ? 'block' : 'none';\n",
              "\n",
              "        async function convertToInteractive(key) {\n",
              "          const element = document.querySelector('#df-a89b2cc8-6ca9-4f4b-a53b-ef09c6ca3765');\n",
              "          const dataTable =\n",
              "            await google.colab.kernel.invokeFunction('convertToInteractive',\n",
              "                                                     [key], {});\n",
              "          if (!dataTable) return;\n",
              "\n",
              "          const docLinkHtml = 'Like what you see? Visit the ' +\n",
              "            '<a target=\"_blank\" href=https://colab.research.google.com/notebooks/data_table.ipynb>data table notebook</a>'\n",
              "            + ' to learn more about interactive tables.';\n",
              "          element.innerHTML = '';\n",
              "          dataTable['output_type'] = 'display_data';\n",
              "          await google.colab.output.renderOutput(dataTable, element);\n",
              "          const docLink = document.createElement('div');\n",
              "          docLink.innerHTML = docLinkHtml;\n",
              "          element.appendChild(docLink);\n",
              "        }\n",
              "      </script>\n",
              "    </div>\n",
              "  </div>\n",
              "  "
            ]
          },
          "metadata": {},
          "execution_count": 134
        }
      ],
      "source": [
        "all_model_results = pd.DataFrame({\"model_0_baseline\":baseline_results,\n",
        "                                  \"model_1_custom_token_embedding\":model1_results,\n",
        "                                  \"model_2_pretrained_token_embedding\":model2_results,\n",
        "                                  \"model_3_custom_char_embedding\":model3_results,\n",
        "                                  \"model_4_hybrid_char_token_embedding\":model4_results,\n",
        "                                  \"model5_pos_char_token_embedding\":model5_results}).T\n",
        "all_model_results"
      ]
    },
    {
      "cell_type": "code",
      "execution_count": 135,
      "metadata": {
        "colab": {
          "base_uri": "https://localhost:8080/",
          "height": 619
        },
        "id": "TnG1Ou2kULdl",
        "outputId": "ac111aa4-1ed7-4292-df94-2fc3958bd012"
      },
      "outputs": [
        {
          "output_type": "display_data",
          "data": {
            "text/plain": [
              "<Figure size 720x504 with 1 Axes>"
            ],
            "image/png": "[encoded data removed]"
          },
          "metadata": {
            "needs_background": "light"
          }
        }
      ],
      "source": [
        "all_model_results.plot(kind = \"bar\",figsize = (10,7)).legend(bbox_to_anchor = (1.0,1.0));"
      ]
    },
    {
      "cell_type": "code",
      "execution_count": 136,
      "metadata": {
        "colab": {
          "base_uri": "https://localhost:8080/",
          "height": 619
        },
        "id": "1uhqYnDsUWJL",
        "outputId": "a8701639-ffb9-4e4b-ce2f-967b7e665f8b"
      },
      "outputs": [
        {
          "output_type": "display_data",
          "data": {
            "text/plain": [
              "<Figure size 720x504 with 1 Axes>"
            ],
            "image/png": "[encoded data removed]"
          },
          "metadata": {
            "needs_background": "light"
          }
        }
      ],
      "source": [
        "all_model_results.sort_values(\"f1_score\",ascending = True)[\"f1_score\"].plot(kind = \"bar\",figsize = (10,7));"
      ]
    },
    {
      "cell_type": "code",
      "execution_count": 130,
      "metadata": {
        "colab": {
          "base_uri": "https://localhost:8080/"
        },
        "id": "b_Pivx-ZUznY",
        "outputId": "3fcaeb9a-51f4-4999-e8c4-16012c53d30e"
      },
      "outputs": [
        {
          "output_type": "stream",
          "name": "stderr",
          "text": [
            "WARNING:absl:Found untraced functions such as lstm_cell_4_layer_call_fn, lstm_cell_4_layer_call_and_return_conditional_losses, lstm_cell_5_layer_call_fn, lstm_cell_5_layer_call_and_return_conditional_losses while saving (showing 4 of 4). These functions will not be directly callable after loading.\n"
          ]
        }
      ],
      "source": [
        "#Saving our best model and loading it again\n",
        "model_5.save(\"skimlit_tribrid_model\")\n",
        "#load in best performing model\n",
        "loaded_model = tf.keras.models.load_model(\"/content/skimlit_tribrid_model\")"
      ]
    },
    {
      "cell_type": "code",
      "execution_count": 131,
      "metadata": {
        "colab": {
          "base_uri": "https://localhost:8080/"
        },
        "id": "bBO-_Tm-XfHE",
        "outputId": "dd019435-309b-4644-c0c8-1b4a081504fd"
      },
      "outputs": [
        {
          "output_type": "stream",
          "name": "stdout",
          "text": [
            "945/945 [==============================] - 25s 24ms/step\n"
          ]
        },
        {
          "output_type": "execute_result",
          "data": {
            "text/plain": [
              "{'accuracy': 0.8323513835562029,\n",
              " 'precision': 0.8312957260371513,\n",
              " 'recall': 0.8323513835562029,\n",
              " 'f1_score': 0.8316634464285197}"
            ]
          },
          "metadata": {},
          "execution_count": 131
        }
      ],
      "source": [
        "loaded_pred_probs = loaded_model.predict(val_char_token_pos_dataset)\n",
        "loaded_pred = tf.argmax(loaded_pred_probs, axis = 1)\n",
        "loaded_model_results = calculate_results(val_labels_encoded, loaded_pred)\n",
        "loaded_model_results"
      ]
    }
  ],
  "metadata": {
    "accelerator": "GPU",
    "colab": {
      "collapsed_sections": [],
      "provenance": [],
      "toc_visible": true,
      "authorship_tag": "ABX9TyO7qm+5+WgOs4HBa3kvVob1",
      "include_colab_link": true
    },
    "kernelspec": {
      "display_name": "Python 3",
      "name": "python3"
    },
    "language_info": {
      "name": "python"
    }
  },
  "nbformat": 4,
  "nbformat_minor": 0
}